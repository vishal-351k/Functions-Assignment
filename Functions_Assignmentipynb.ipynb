{
  "cells": [
    {
      "cell_type": "markdown",
      "metadata": {
        "id": "GNGhL6sAuG2O"
      },
      "source": [
        "# **I. Theory:**\n",
        "\n",
        "## **1. What is the difference between a function and a method in Python?**\n",
        "\n",
        "In Python, a function and a method are both blocks of code that can be executed multiple times from different parts of a program. However, there are some key differences between the two:\n",
        "\n",
        "### **a. Function:**\n",
        "\n",
        "A function is a standalone block of code that can be called multiple times from different parts of a program. It has its own scope, and its variables and arguments are not related to any specific object. Functions are typically defined using the `def` keyword.\n",
        "\n",
        "**Examples:**"
      ]
    },
    {
      "cell_type": "code",
      "execution_count": null,
      "metadata": {
        "colab": {
          "base_uri": "https://localhost:8080/"
        },
        "id": "ltXjePDzweWo",
        "outputId": "bd814134-f4e7-4932-9077-d9327652429e"
      },
      "outputs": [
        {
          "name": "stdout",
          "output_type": "stream",
          "text": [
            "Hello, Vishal!\n"
          ]
        }
      ],
      "source": [
        "def greet(name):\n",
        "    print(\"Hello, \" + name + \"!\")\n",
        "greet(\"Vishal\")"
      ]
    },
    {
      "cell_type": "code",
      "execution_count": null,
      "metadata": {
        "colab": {
          "base_uri": "https://localhost:8080/"
        },
        "id": "qkYNWNx3xdxN",
        "outputId": "0841440f-24d6-473a-c230-4122a96c4bac"
      },
      "outputs": [
        {
          "name": "stdout",
          "output_type": "stream",
          "text": [
            "Sum= 9\n"
          ]
        }
      ],
      "source": [
        "def addNumbers(num1, num2):\n",
        "    sum = num1 + num2\n",
        "    print(\"Sum=\", sum)\n",
        "\n",
        "addNumbers(5, 4)"
      ]
    },
    {
      "cell_type": "markdown",
      "metadata": {
        "id": "MuR8Z_qGyELp"
      },
      "source": [
        "### **b. Method:**\n",
        "\n",
        "A method is a block of code that is associated with an object or a class. It is a part of the object's behavior and is typically used to perform an action on the object itself. Methods are defined inside a class using the `def` keyword, and they have access to the object's attributes and state.\n",
        "\n",
        "**Examples:**"
      ]
    },
    {
      "cell_type": "code",
      "execution_count": null,
      "metadata": {
        "colab": {
          "base_uri": "https://localhost:8080/"
        },
        "id": "sgpiOTORym47",
        "outputId": "555e5a3b-e110-4606-977a-9fe80b62f917"
      },
      "outputs": [
        {
          "name": "stdout",
          "output_type": "stream",
          "text": [
            "Hello, my name is Vishal!\n"
          ]
        }
      ],
      "source": [
        "class Person:\n",
        "    def __init__(self, name):\n",
        "        self.name = name\n",
        "\n",
        "    def greet(self):\n",
        "        print(\"Hello, my name is \" + self.name + \"!\")\n",
        "\n",
        "vishal = Person(\"Vishal\")\n",
        "vishal.greet()"
      ]
    },
    {
      "cell_type": "markdown",
      "metadata": {
        "id": "dyCOsdg70GFw"
      },
      "source": [
        "In this example, `greet` is a method of the `Person` class, and it is called on an instance of the class (`vishal`).\n",
        "\n",
        "Key differences:\n",
        "\n",
        "1. **Scope:** A function has its own scope, while a method has access to the object's attributes and state.\n",
        "2. **Calling:** A function is called using its name, while a method is called on an object using dot notation (e.g., `obj.method()`).\n",
        "3. **Arguments:** A function typically takes arguments, while a method may take arguments as well as access to the object's attributes.\n",
        "4. **Association:** Functions are not associated with any object or class, while methods are associated with an object or class.\n",
        "\n",
        "\n",
        "In summary, functions are standalone blocks of code that can be called multiple times, while methods are part of an object's behavior and are used to perform actions on the object itself."
      ]
    },
    {
      "cell_type": "markdown",
      "metadata": {
        "id": "RSoZDYr_0wuZ"
      },
      "source": [
        "## **2. Explain the concept of function arguments and parameters in Python.**\n",
        "\n",
        "In Python, when we define a function, we can specify variables that the function can accept when it's called. These variables are called parameters. When we call the function, we pass values to these parameters, and these values are called arguments.\n",
        "\n",
        "**a. Arguments:** Arguments are the actual values passed to the function when it's called. They are assigned to the corresponding parameters in the function definition.\n",
        "\n",
        "\n",
        "**b. Parameters:** Parameters are the variables defined in the function definition. They are used to receive the input values when the function is called. In the function definition, parameters are specified in parentheses after the function name.\n",
        "\n",
        "**Examples**:"
      ]
    },
    {
      "cell_type": "code",
      "execution_count": null,
      "metadata": {
        "colab": {
          "base_uri": "https://localhost:8080/"
        },
        "id": "415gDIil21vS",
        "outputId": "a01601cc-4e0c-4ec7-93ea-6e5b0a32ece6"
      },
      "outputs": [
        {
          "name": "stdout",
          "output_type": "stream",
          "text": [
            "Hello, my name is Vishal and I am 25 years old.\n"
          ]
        }
      ],
      "source": [
        "def greet(name, age):\n",
        "    print(\"Hello, my name is \" + name + \" and I am \" + str(age) + \" years old.\")\n",
        "\n",
        "greet(\"Vishal\", 25)"
      ]
    },
    {
      "cell_type": "markdown",
      "metadata": {
        "id": "j_Rdzcfk4H4A"
      },
      "source": [
        "In this example:\n",
        "\n",
        "* `name` and `age` are parameters in the function definition.\n",
        "* `Vishal` and `25` are arguments passed to the function when it's called.\n",
        "\n",
        "When the function is called, the arguments `Vishal` and `25` are assigned to the parameters `name` and `age`, respectively.\n",
        "\n",
        "Here are some key points to note:\n",
        "\n",
        "* The number of arguments passed to the function must match the number of parameters defined in the function definition.\n",
        "* The order of arguments passed to the function must match the order of parameters defined in the function definition.\n",
        "* We can also specify default values for parameters, which allows the function to be called with fewer arguments.\n",
        "\n",
        "**Example**:"
      ]
    },
    {
      "cell_type": "code",
      "execution_count": null,
      "metadata": {
        "colab": {
          "base_uri": "https://localhost:8080/"
        },
        "id": "fZVQyibj7n65",
        "outputId": "bd003f2f-e227-4106-d190-48bc54f76708"
      },
      "outputs": [
        {
          "name": "stdout",
          "output_type": "stream",
          "text": [
            "Hello, my name is Vishal and I am 25 years old.\n",
            "Hello, my name is Arun and I am 30 years old.\n"
          ]
        }
      ],
      "source": [
        "def greet(name, age = 25):\n",
        "    print(\"Hello, my name is \" + name + \" and I am \" + str(age) + \" years old.\")\n",
        "\n",
        "greet(\"Vishal\")\n",
        "greet(\"Arun\", 30)"
      ]
    },
    {
      "cell_type": "markdown",
      "metadata": {
        "id": "YBUnYtTn8QaZ"
      },
      "source": [
        "In this example, the `age` parameter has a default value of `25`, so the function can be called with one argument, and the default value will be used.\n",
        "\n",
        "## **3. What are the different ways to define and call a function in Python?**\n",
        "\n",
        "\n"
      ]
    },
    {
      "cell_type": "markdown",
      "metadata": {
        "id": "r1BY-sBXNDDK"
      },
      "source": [
        "Ways to define and call a function. Here are the different ways to do so:\n",
        "\n",
        "**Defining a Function:**\n",
        "\n",
        "**a. Standard Function Definition:** This is the most common way to define a function in Python.\n"
      ]
    },
    {
      "cell_type": "code",
      "source": [
        "def myFunction(x, y):\n",
        "    return x + y"
      ],
      "metadata": {
        "id": "bXUR-wMAw_Bn"
      },
      "execution_count": null,
      "outputs": []
    },
    {
      "cell_type": "markdown",
      "source": [
        "**b. Lambda Function Definition:** Lambda functions are small anonymous functions that can take any number of arguments, but can only have one expression."
      ],
      "metadata": {
        "id": "VYa7_yNBxB9T"
      }
    },
    {
      "cell_type": "code",
      "source": [
        "myFunction = lambda x, y: x + y"
      ],
      "metadata": {
        "id": "L8vcnyd7xOpi"
      },
      "execution_count": null,
      "outputs": []
    },
    {
      "cell_type": "markdown",
      "source": [
        "**c. Method Definition:** A method is a function that is defined inside a class."
      ],
      "metadata": {
        "id": "VoLRwZaQxSTd"
      }
    },
    {
      "cell_type": "code",
      "source": [
        "class MyClass:\n",
        "    def myMethod(self, x, y):\n",
        "        return x + y"
      ],
      "metadata": {
        "id": "EqC-JHRgxXGv"
      },
      "execution_count": null,
      "outputs": []
    },
    {
      "cell_type": "markdown",
      "source": [
        "**d. Generator Function Definition:** A generator function is a function that returns an iterator, which allows us to iterate over the values returned by the function."
      ],
      "metadata": {
        "id": "b__gsU6mxbBe"
      }
    },
    {
      "cell_type": "code",
      "source": [
        "def myGenerator(x, y):\n",
        "    while x <= y:\n",
        "        yield x\n",
        "        x += 1"
      ],
      "metadata": {
        "id": "zog4psUoxhmG"
      },
      "execution_count": 54,
      "outputs": []
    },
    {
      "cell_type": "markdown",
      "source": [
        "**e. Coroutine Function Definition:** A coroutine function is a function that uses the `async` and `await` keywords to define asynchronous code."
      ],
      "metadata": {
        "id": "IOKFj2MTxkxW"
      }
    },
    {
      "cell_type": "code",
      "source": [
        "async def myCoroutine(x, y):\n",
        "    await asyncio.sleep(1)\n",
        "    return x + y"
      ],
      "metadata": {
        "id": "2YmfnTBtxz68"
      },
      "execution_count": 53,
      "outputs": []
    },
    {
      "cell_type": "markdown",
      "source": [
        "**Calling a Function:**\n",
        "\n",
        "**a. Function Call:** We can call a function by using the function name followed by parentheses containing the arguments.\n"
      ],
      "metadata": {
        "id": "mgYdNZQxx96O"
      }
    },
    {
      "cell_type": "code",
      "source": [
        "result = myFunction(2, 3)\n",
        "print(result)"
      ],
      "metadata": {
        "id": "jN_Yen8HyE6b",
        "colab": {
          "base_uri": "https://localhost:8080/"
        },
        "outputId": "9baab04d-1dfa-4b21-fedf-5330305eb767"
      },
      "execution_count": 52,
      "outputs": [
        {
          "output_type": "stream",
          "name": "stdout",
          "text": [
            "5\n"
          ]
        }
      ]
    },
    {
      "cell_type": "markdown",
      "source": [
        "**b. Function Call with Keyword Arguments:** We can pass keyword arguments to a function using the `keyword` syntax."
      ],
      "metadata": {
        "id": "dJTJZvwByLoF"
      }
    },
    {
      "cell_type": "code",
      "source": [
        "result = myFunction(y=3, x=2)\n",
        "print(result)"
      ],
      "metadata": {
        "id": "khjUq0WqypVC",
        "colab": {
          "base_uri": "https://localhost:8080/"
        },
        "outputId": "03b6ec55-c1bc-474c-cf20-c8e81ff28f86"
      },
      "execution_count": 51,
      "outputs": [
        {
          "output_type": "stream",
          "name": "stdout",
          "text": [
            "5\n"
          ]
        }
      ]
    },
    {
      "cell_type": "markdown",
      "source": [
        "**c. Function Call with Default Arguments:** If a function has default arguments, we can omit them when calling the function."
      ],
      "metadata": {
        "id": "MJa8ZoC7yyXL"
      }
    },
    {
      "cell_type": "code",
      "source": [
        "def myFunction(x, y=0):\n",
        "    return x + y\n",
        "\n",
        "result = myFunction(2)\n",
        "print(result)"
      ],
      "metadata": {
        "id": "s4XltDVKy1o1",
        "colab": {
          "base_uri": "https://localhost:8080/"
        },
        "outputId": "376e8bdb-02cf-4cb6-fa07-96f42b934d3f"
      },
      "execution_count": 50,
      "outputs": [
        {
          "output_type": "stream",
          "name": "stdout",
          "text": [
            "2\n"
          ]
        }
      ]
    },
    {
      "cell_type": "markdown",
      "source": [
        "**d. Function Call with Variable Number of Arguments:** We can use the `*args` syntax to pass a variable number of arguments to a function."
      ],
      "metadata": {
        "id": "gJ7DbkyYy7M0"
      }
    },
    {
      "cell_type": "code",
      "source": [
        "def myFunction(x, *args):\n",
        "    return x + sum(args)\n",
        "\n",
        "result = myFunction(2, 3, 4)\n",
        "print(result)"
      ],
      "metadata": {
        "id": "xtmreVGoOmkv"
      },
      "execution_count": null,
      "outputs": []
    },
    {
      "cell_type": "markdown",
      "source": [
        "**e. Function Call with Keyword Arguments and Variable Number of Arguments:** We can combine keyword arguments and variable number of arguments when calling a function.\n"
      ],
      "metadata": {
        "id": "UwyEuotJz0lu"
      }
    },
    {
      "cell_type": "code",
      "source": [
        "def myFunction(x, *args, **kwargs):\n",
        "    return x + sum(args) + sum(kwargs.values())\n",
        "\n",
        "result = myFunction(2, 3, 4, foo=5, bar=6)\n",
        "print(result)"
      ],
      "metadata": {
        "id": "5FCaCDHWOi1H"
      },
      "execution_count": null,
      "outputs": []
    },
    {
      "cell_type": "markdown",
      "metadata": {
        "id": "8i4S6lfLO_cF"
      },
      "source": [
        "## **4. What is the purpose of the `return` statement in a Python function?**\n",
        "\n",
        "The return statement in a Python function is used to specify the value that the function should return when it is called. When a function is called, it can either return a value or it can terminate without returning a value. If a function does not have a return statement, it will return None by default.\n",
        "\n",
        "#### **Value can be any data type, including:**\n",
        "\n",
        "* **None**: If we don't want to return anything specifically, we can use return None or simply return.\n",
        "\n",
        "* **A single value**: This could be a number, string, list, dictionary, etc.\n",
        "\n",
        "* **Multiple values**: we can return multiple values as a tuple, like return value1, value2, value3.\n",
        "\n",
        "\n",
        "\n"
      ]
    },
    {
      "cell_type": "code",
      "execution_count": 46,
      "metadata": {
        "colab": {
          "base_uri": "https://localhost:8080/"
        },
        "id": "QXzNInwqRKmp",
        "outputId": "20ea39f7-b4d6-4fe2-bdeb-c636194f3400"
      },
      "outputs": [
        {
          "output_type": "stream",
          "name": "stdout",
          "text": [
            "8\n"
          ]
        }
      ],
      "source": [
        "def addNumbers(a, b):\n",
        "  sum = a + b\n",
        "  return sum\n",
        "\n",
        "result = addNumbers(5, 3)\n",
        "print(result)"
      ]
    },
    {
      "cell_type": "markdown",
      "metadata": {
        "id": "1mF3A2SQRZHM"
      },
      "source": [
        " The `addNumbers` function takes two arguments, adds them and then returns the sum using `return sum`. The `result` variable then stores the returned value, which is printed."
      ]
    },
    {
      "cell_type": "markdown",
      "metadata": {
        "id": "vcN2exWERI2H"
      },
      "source": [
        "Some of the main purposes of the return statement:\n",
        "\n",
        "1. **Returning a Value**: The return statement is used to return a value from a function. This value can be a simple value, a list, a dictionary, or even an object.\n",
        "\n",
        "2. **Terminating the Function**: The return statement can also be used to terminate the function early. If a condition is met, we can use the return statement to exit the function and return control to the caller.\n",
        "\n",
        "3. **Returning Multiple Values**: Python functions can return multiple values using the return statement. This is useful when we need to return multiple values from a function.\n",
        "\n",
        "Example of how we can use the `return` statement in a Python function:"
      ]
    },
    {
      "cell_type": "code",
      "execution_count": 45,
      "metadata": {
        "colab": {
          "base_uri": "https://localhost:8080/"
        },
        "id": "GhPsY2_fR45h",
        "outputId": "cb4334a4-2ccc-47b7-cf31-e365e5b0d71d"
      },
      "outputs": [
        {
          "output_type": "stream",
          "name": "stdout",
          "text": [
            "Hello, Vishal!\n",
            "Hello, stranger!\n"
          ]
        }
      ],
      "source": [
        "def greet(name):\n",
        "    if name == \"Vishal\":\n",
        "        return \"Hello, Vishal!\"\n",
        "    else:\n",
        "        return \"Hello, stranger!\"\n",
        "\n",
        "print(greet(\"Vishal\"))\n",
        "print(greet(\"Arun\"))"
      ]
    },
    {
      "cell_type": "markdown",
      "metadata": {
        "id": "DKCTHcpvSupc"
      },
      "source": [
        "In this example the `greet` function returns a greeting message based on the name passed to it. If the name is \"Vishal\", it returns \"Hello, Vishal!\", otherwise it returns \"Hello, stranger!\"."
      ]
    },
    {
      "cell_type": "markdown",
      "metadata": {
        "id": "K5CuQQcGTFwD"
      },
      "source": [
        "## **5. What are iterators in Python and how do they differ from iterables?**\n",
        "\n",
        "In Python, an **iterable** is an object that can be iterated over, meaning it can be used in a loop (like for loop) to access its elements one by one. Examples of iterables include:\n",
        "\n",
        "* **Lists:** [1, 2, 3, 4, 5]\n",
        "\n",
        "* **Tuples:** (1, 2, 3, 4, 5)\n",
        "\n",
        "* **Strings:** \"hello world\"\n",
        "    \n",
        "* **Dictionaries:** {\"a\": 1, \"b\": 2, \"c\": 3}\n",
        "    \n",
        "* **Sets:** {1, 2, 3, 4, 5}\n",
        "\n",
        "An **iterator**, on the other hand, is an object that keeps track of the current position in the iterable. It's responsible for generating the next element in the sequence when asked to do so. Think of it as a cursor that moves through the iterable.\n",
        "\n",
        "When we create an iterator from an iterable using a function like `iter()` or a generator expression, we get an iterator object. This object has two main methods:\n",
        "\n",
        "    \n",
        "* `__next__()`: returns the next element in the sequence or raises a `StopIteration` exception if there are no more elements.\n",
        "    \n",
        "* `__iter__()`: returns the iterator object itself (this method is called automatically when we use the iterator in a loop).\n",
        "\n",
        "Key difference:\n",
        "\n",
        "* An iterable is an object that can be iterated over.\n",
        "\n",
        "* An iterator is an object that keeps track of the current position in an iterable.\n",
        "\n",
        "In other words:\n",
        "\n",
        "* we can't use an iterable as an iterator. we need to create an iterator from an iterable using `iter()` or a generator expression.\n",
        "  \n",
        "* we can't use an iterator as an iterable. we can only use it to retrieve elements one by one.\n",
        "\n",
        "Example to illustrate the difference:"
      ]
    },
    {
      "cell_type": "code",
      "execution_count": 44,
      "metadata": {
        "id": "wQmcMcTjko5l",
        "colab": {
          "base_uri": "https://localhost:8080/"
        },
        "outputId": "5745d17e-258e-45c8-c2e9-f82ed8cca401"
      },
      "outputs": [
        {
          "output_type": "stream",
          "name": "stdout",
          "text": [
            "1\n",
            "2\n",
            "3\n"
          ]
        }
      ],
      "source": [
        "myList = [1, 2, 3, 4, 5]\n",
        "myIter = iter(myList)\n",
        "print(next(myIter))\n",
        "print(next(myIter))\n",
        "print(next(myIter))"
      ]
    },
    {
      "cell_type": "markdown",
      "metadata": {
        "id": "MTUNn9hLk1Vt"
      },
      "source": [
        "In this example:\n",
        "\n",
        "* We create a list `myList` and try to use it as an iterator (which won't work).\n",
        "    \n",
        "* We create an iterator `myIter` from `myList` using `iter()`.\n",
        "    \n",
        "* We use the iterator to retrieve elements one by one using `next()`.\n",
        "    \n",
        "* We try to use the iterator as an iterable (which won't work)."
      ]
    },
    {
      "cell_type": "markdown",
      "metadata": {
        "id": "YTJjeiSImixZ"
      },
      "source": [
        "## **6. Explain the concept of generators in Python and how they are defined.**\n",
        "\n",
        "Generators are a fundamental concept in Python that allow we to create iterable objects that can generate a sequence of values on the fly, without storing them in memory all at once. This makes them particularly useful for handling large datasets or infinite sequences.\n",
        "\n",
        "**a. What is a generator:**\n",
        "\n",
        "A generator is a special type of iterable object that can be used to generate a sequence of values. Unlike lists or tuples, which store all their values in memory, generators create values on the fly as they are iterated over. This means that generators use less memory and can be more efficient than storing all the values in a list or tuple.\n",
        "\n",
        "**b. How are generators defined:**\n",
        "\n",
        "Generators are defined using a special syntax in Python, which involves using the `yield` keyword. A generator function is a function that contains one or more `yield` statements. When a generator function is called, it returns a generator object, which can be iterated over using a `for` loop or the `next()` function.\n",
        "\n",
        "Example of a simple generator function:"
      ]
    },
    {
      "cell_type": "code",
      "execution_count": 43,
      "metadata": {
        "id": "yKU5DPf9oLgP"
      },
      "outputs": [],
      "source": [
        "def infiniteSequence():\n",
        "    num = 0\n",
        "    while True:\n",
        "        yield num\n",
        "        num += 1"
      ]
    },
    {
      "cell_type": "markdown",
      "metadata": {
        "id": "JEvkhXaMoWs9"
      },
      "source": [
        "This generator function uses a while loop to generate an infinite sequence of numbers, starting from 0. The yield statement is used to produce each value in the sequence.\n",
        "\n",
        "**c. How do generators work:**\n",
        "\n",
        "When we call a generator function, it returns a generator object. The generator object has a `__next__()` method that is called when we iterate over it using a `for` loop or the `next()` function.\n",
        "\n",
        "Here's what happens when we iterate over a generator:\n",
        "\n",
        "  * The generator function is called, and it executes until it reaches the first yield statement.\n",
        "  * The value yielded by the yield statement is returned to the caller.\n",
        "  \n",
        "  * The generator function is paused, and its state is saved.\n",
        "  \n",
        "  * When the caller requests the next value, the generator function is resumed from where it left off.\n",
        "  \n",
        "  * The generator function executes until it reaches the next yield statement, and the process repeats.\n",
        "\n",
        "**d. Advantages of Generators**:\n",
        "\n",
        "Generators have several advantages over traditional lists and other iterables:\n",
        "\n",
        "* **Memory efficiency**: Generators only create elements on the fly as they are\n",
        "  needed, which can be useful when working with large datasets.\n",
        "\n",
        "* **Lazy evaluation**: Generators only evaluate expressions when their values are actually needed, which can be useful when working with complex computations.\n",
        "\n",
        "* **Flexibility**: Generators can be used to create complex sequences or streams of data that can't be easily represented by traditional iterables.\n"
      ]
    },
    {
      "cell_type": "markdown",
      "metadata": {
        "id": "3CotcB3ipXeV"
      },
      "source": [
        "**e. Common Use Cases for Generators:**\n",
        "\n",
        "Generators are commonly used in situations where we need to:\n",
        "\n",
        "  * Process large datasets or streams of data\n",
        "    \n",
        "  * Implement infinite sequences or streams\n",
        "    \n",
        "  * Create complex sequences or patterns\n",
        "    \n",
        "  * Improve memory efficiency in the code"
      ]
    },
    {
      "cell_type": "markdown",
      "metadata": {
        "id": "SNeqySWXtgul"
      },
      "source": [
        "## **7. What are the advantages of using generators over regular functions?**\n"
      ]
    },
    {
      "cell_type": "markdown",
      "metadata": {
        "id": "M8qSrHccuLgv"
      },
      "source": [
        "Generators have several advantages over regular functions:\n",
        "\n",
        "**1. Memory Efficiency:** Generators use less memory because they only store the current state of the iteration, whereas regular functions store all the values in memory at once. This makes generators particularly useful when working with large datasets or infinite sequences.\n",
        "\n",
        "**2. Lazy Evaluation:** Generators only compute values when they are actually needed, which can improve performance and reduce computational overhead. Regular functions, on the other hand, compute all values upfront, even if they're not needed.\n",
        "\n",
        "**3. Flexibility:** Generators can be used to create complex sequences or iterate over large datasets in a flexible and efficient way. They can also be used to implement cooperative multitasking, where multiple tasks can yield control to each other.\n",
        "\n",
        "**4. Improved Performance:** Generators can be faster than regular functions because they avoid the overhead of creating and returning large data structures. This is particularly important when working with large datasets or computationally expensive operations.\n",
        "\n",
        "**5. Iteration Control:** Generators provide more control over the iteration process, allowing us to pause and resume the iteration at will. This can be useful when working with complex algorithms or when we need to iterate over a sequence in a specific way.\n",
        "\n",
        "**6. Pipelining:** Generators can be used to create pipelines of data processing, where each stage of the pipeline can be a generator. This allows for efficient and flexible data processing.\n",
        "\n",
        "**7. Infinite Sequences:** Generators can be used to create infinite sequences, which can be useful in certain mathematical or scientific applications.\n",
        "\n",
        "**8. Reduced Memory Allocation:** Generators reduce the number of memory allocations and deallocations, which can improve performance and reduce memory fragmentation.\n",
        "\n",
        "**9. Improved Code Readability:** Generators can make code more readable by breaking down complex algorithms into smaller, more manageable pieces.\n",
        "\n",
        "**10. Better Support for Functional Programming:** Generators provide better support for functional programming principles, such as immutability and recursion.\n",
        "\n",
        "**Regular Function:**"
      ]
    },
    {
      "cell_type": "code",
      "execution_count": 42,
      "metadata": {
        "colab": {
          "base_uri": "https://localhost:8080/"
        },
        "id": "qxiOAU3LyBjS",
        "outputId": "ae1f9720-53e9-4baa-b0b0-b34c0f767e21"
      },
      "outputs": [
        {
          "output_type": "stream",
          "name": "stdout",
          "text": [
            "[0, 1, 1, 2, 3, 5, 8, 13, 21, 34]\n"
          ]
        }
      ],
      "source": [
        "def fibonacci(n):\n",
        "    fibSequence = []\n",
        "    a, b = 0, 1\n",
        "    for i in range(n):\n",
        "        fibSequence.append(a)\n",
        "        a, b = b, a + b\n",
        "    return fibSequence\n",
        "\n",
        "print(fibonacci(10))"
      ]
    },
    {
      "cell_type": "markdown",
      "metadata": {
        "id": "_6yGVg8jySya"
      },
      "source": [
        "In this example, we define a regular function `fibonacci` that takes an integer `n` as input and returns a list of the first `n` Fibonacci numbers. The function uses a loop to calculate the Fibonacci numbers and stores them in a list.\n",
        "\n",
        "**Generator:**"
      ]
    },
    {
      "cell_type": "code",
      "execution_count": 41,
      "metadata": {
        "colab": {
          "base_uri": "https://localhost:8080/"
        },
        "id": "xhMPbHsQyRuH",
        "outputId": "cb8e5ca5-c91a-4a28-b119-f7a83e0e57b0"
      },
      "outputs": [
        {
          "output_type": "stream",
          "name": "stdout",
          "text": [
            "0\n",
            "1\n",
            "1\n",
            "2\n",
            "3\n",
            "5\n",
            "8\n",
            "13\n",
            "21\n",
            "34\n"
          ]
        }
      ],
      "source": [
        "def fibonacciGenerator():\n",
        "    a, b = 0, 1\n",
        "    while True:\n",
        "        yield a\n",
        "        a, b = b, a + b\n",
        "\n",
        "fibGen = fibonacciGenerator()\n",
        "for i in range(10):\n",
        "    print(next(fibGen))"
      ]
    },
    {
      "cell_type": "markdown",
      "source": [
        "## **8. What is a lambda function in Python and when is it typically used?**\n",
        "\n",
        "A lambda function in Python is a small, anonymous function that can be defined inline within a larger expression. It's a shorthand way to create a function without declaring a separate named function using the `def` keyword.\n",
        "\n",
        "Syntax lambda function:\n",
        "```\n",
        "lambda arguments: expression\n",
        "```"
      ],
      "metadata": {
        "id": "sCVHqMi71bAa"
      }
    },
    {
      "cell_type": "markdown",
      "source": [
        "Where `arguments` is a comma-separated list of variables that will be passed to the function, and `expression` is the code that will be executed when the function is called.\n",
        "\n",
        "Example:"
      ],
      "metadata": {
        "id": "V5mpe8Fg1idy"
      }
    },
    {
      "cell_type": "code",
      "source": [
        "double = lambda x: x * 2\n",
        "print(double(5))"
      ],
      "metadata": {
        "colab": {
          "base_uri": "https://localhost:8080/"
        },
        "id": "QVVEehQ21mLZ",
        "outputId": "72ead2d5-9412-4317-9b74-854f52082308"
      },
      "execution_count": 40,
      "outputs": [
        {
          "output_type": "stream",
          "name": "stdout",
          "text": [
            "10\n"
          ]
        }
      ]
    },
    {
      "cell_type": "markdown",
      "source": [
        "In this example, the lambda function takes a single argument `x` and returns its double value.\n",
        "\n",
        "Lambda functions are typically used in situations where a small, one-time-use function is needed. Here are some common use cases:\n",
        "\n",
        "* **a. Sorting and filtering data:** Lambda functions are often used as key functions for sorting or filtering data. For example:"
      ],
      "metadata": {
        "id": "6DZRcP1i1p96"
      }
    },
    {
      "cell_type": "code",
      "source": [
        "numbers = [3, 1, 4, 1, 5, 9]\n",
        "sortedNumbers = sorted(numbers, key=lambda x: x**2)\n",
        "print(sortedNumbers)"
      ],
      "metadata": {
        "colab": {
          "base_uri": "https://localhost:8080/"
        },
        "id": "i-nS4ZjE1wIS",
        "outputId": "d46a752a-da9c-4952-d8c3-c11cae73ffa5"
      },
      "execution_count": 39,
      "outputs": [
        {
          "output_type": "stream",
          "name": "stdout",
          "text": [
            "[1, 1, 3, 4, 5, 9]\n"
          ]
        }
      ]
    },
    {
      "cell_type": "markdown",
      "source": [
        "**b. Event handling:** Lambda functions can be used as event handlers in GUI programming or other situations where a small, one-time-use function is needed.\n",
        "\n",
        "**c. Data processing:** Lambda functions can be used to perform simple data processing tasks, such as extracting specific values from a dataset.\n",
        "\n",
        "**d. Higher-order functions:** Lambda functions can be passed as arguments to higher-order functions, such as `map()`, `filter()` or `reduce()`.\n",
        "\n",
        "**e. One-time-use functions:** Lambda functions can be used when a function is only needed once and doesn't need to be reused.\n",
        "\n",
        "**Benefits of using lambda functions include:**\n",
        "\n",
        "* **Concise code:** Lambda functions can make your code more concise and expressive.\n",
        "    \n",
        "* **Flexibility:** Lambda functions can be defined and used on the fly, without the need to declare a separate named function.\n",
        "  \n",
        "* **Readability:** Lambda functions can make your code more readable by encapsulating small, self-contained logic.\n",
        "\n",
        "**Limitations lambda functions:**\n",
        "\n",
        "* **Limited complexity:** Lambda functions are best suited for simple, one-line expressions. More complex logic may be harder to read and maintain.\n",
        "* **Debugging challenges:** Since lambda functions are anonymous, they can be harder to debug than named functions."
      ],
      "metadata": {
        "id": "q1ld_X_-19aM"
      }
    },
    {
      "cell_type": "markdown",
      "source": [
        "## **9. Explain the purpose and usage of the `map()` function in Python.**\n",
        "\n",
        "The `map()` function in Python is a built-in function that applies a given function to each item of an iterable (such as a list, tuple, or string) and returns a list of the results. It is often used to transform or manipulate data in a concise and expressive way.\n",
        "\n",
        "**Syntax:**\n",
        "\n",
        "```\n",
        "map(function, iterable)\n",
        "```\n",
        "Where:\n",
        "\n",
        "* `function` is the function that will be applied to each item of the `iterable`.\n",
        "\n",
        "* `iterable` is the iterable (such as a list, tuple, or string) that will be processed.\n",
        "\n",
        "**Example:**"
      ],
      "metadata": {
        "id": "mLYlz9el2F8y"
      }
    },
    {
      "cell_type": "code",
      "source": [
        "def square(x):\n",
        "    return x ** 2\n",
        "\n",
        "numbers = [1, 2, 3, 4, 5]\n",
        "squares = list(map(square, numbers))\n",
        "print(squares)"
      ],
      "metadata": {
        "colab": {
          "base_uri": "https://localhost:8080/"
        },
        "id": "TjAlCybz2YVj",
        "outputId": "7afeaf41-d12f-4335-acd1-dcc7ceba9179"
      },
      "execution_count": 65,
      "outputs": [
        {
          "output_type": "stream",
          "name": "stdout",
          "text": [
            "[1, 4, 9, 16, 25]\n"
          ]
        }
      ]
    },
    {
      "cell_type": "markdown",
      "source": [
        "In this example, the square function is applied to each item of the numbers list using the `map()` function. The result is a new list containing the squares of each original number.\n",
        "\n",
        "Common use cases:\n",
        "\n",
        "* **Transforming data:** `map()` can be used to transform data in a concise way. For example, converting a list of strings to uppercase or converting a list of numbers to their squares.\n",
        "\n",
        "* **Filtering data:** `map()` can be used in combination with other functions (such as `filter()`) to filter data. For example, filtering a list of numbers to only include even numbers.\n",
        "\n",
        "* **Reducing data:** `map()` can be used in combination with other functions (such as `reduce()`) to reduce data. For example, summing up a list of numbers.\n",
        "\n",
        "Note:\n",
        "\n",
        "* The `map()` function returns an iterator object, not a list. To convert the result to a list, we need to use the `list()` function.\n",
        "\n",
        "* The `map()` function can also be used with multiple iterables. In this case, the function will be applied to each item of the first iterable and the corresponding item of the second iterable.\n",
        "\n",
        "**Example:**"
      ],
      "metadata": {
        "id": "fDt0wN9H2ZXd"
      }
    },
    {
      "cell_type": "code",
      "source": [
        "def add(x, y):\n",
        "    return x + y\n",
        "\n",
        "numbers1 = [1, 2, 3]\n",
        "numbers2 = [4, 5, 6]\n",
        "sums = list(map(add, numbers1, numbers2))\n",
        "print(sums)"
      ],
      "metadata": {
        "colab": {
          "base_uri": "https://localhost:8080/"
        },
        "id": "ERSXs0RG2d3e",
        "outputId": "fe9a4cb0-a35a-4e4d-cc5e-df3d240b31b7"
      },
      "execution_count": 64,
      "outputs": [
        {
          "output_type": "stream",
          "name": "stdout",
          "text": [
            "[5, 7, 9]\n"
          ]
        }
      ]
    },
    {
      "cell_type": "markdown",
      "source": [
        "In this example, the `add` function is applied to each item of the `numbers1` and `numbers2` lists using the `map()` function with two iterables. The result is a new list containing the sums of each pair of corresponding numbers."
      ],
      "metadata": {
        "id": "O6ASZZod2hrO"
      }
    },
    {
      "cell_type": "markdown",
      "source": [
        "## **10. What is the difference between `map()`, `reduce()`, and `filter()` functions in Python?**\n",
        "\n",
        "The `map()`, `reduce()`, and `filter()` functions in Python are all part of the functional programming paradigm and are used to process iterables (such as lists, tuples, or strings) in a concise and efficient way. Here's a brief overview of each function and their differences:\n",
        "\n",
        "**a. `map()` Function:**\n",
        "\n",
        "* Applies a given function to each item of an iterable and returns a list of the results.\n",
        "    \n",
        "* Transforms or manipulates each element of an iterable.\n",
        "    \n",
        "* Returns an iterator in Python 3, which can be converted to a list using the `list()` function.\n",
        "\n",
        "**Example:**"
      ],
      "metadata": {
        "id": "V-A1p7UT2l-O"
      }
    },
    {
      "cell_type": "code",
      "source": [
        "numbers = [1, 2, 3, 4, 5]\n",
        "squaredNumbers = list(map(lambda x: x ** 2, numbers))\n",
        "print(squaredNumbers)"
      ],
      "metadata": {
        "colab": {
          "base_uri": "https://localhost:8080/"
        },
        "id": "lwXstmBP2pgJ",
        "outputId": "58b91624-bc1a-41a0-92a9-57fe35e22630"
      },
      "execution_count": 63,
      "outputs": [
        {
          "output_type": "stream",
          "name": "stdout",
          "text": [
            "[1, 4, 9, 16, 25]\n"
          ]
        }
      ]
    },
    {
      "cell_type": "markdown",
      "source": [
        "**b. `reduce()` Function:**\n",
        "\n",
        "* Applies a rolling computation to sequential pairs of values in an iterable.\n",
        "  \n",
        "* Reduces an iterable to a single output value.\n",
        "  \n",
        "* Requires an initial value to start the reduction process.\n",
        "  \n",
        "* Returns a single value, not an iterator.\n",
        "\n",
        "**Example:**"
      ],
      "metadata": {
        "id": "fOH2yWTN2tCC"
      }
    },
    {
      "cell_type": "code",
      "source": [
        "import functools\n",
        "\n",
        "def sum(x, y):\n",
        "    return x + y\n",
        "\n",
        "numbers = [1, 2, 3, 4, 5]\n",
        "result = functools.reduce(sum, numbers)\n",
        "print(result)"
      ],
      "metadata": {
        "colab": {
          "base_uri": "https://localhost:8080/"
        },
        "id": "zsSalg062v3i",
        "outputId": "72aec020-0c30-435f-d823-039b6f577187"
      },
      "execution_count": 35,
      "outputs": [
        {
          "output_type": "stream",
          "name": "stdout",
          "text": [
            "15\n"
          ]
        }
      ]
    },
    {
      "cell_type": "markdown",
      "source": [
        "**c. `filter()` Function:**\n",
        "\n",
        "* Applies a given function to each item of an iterable and returns a list of the items for which the function returns `True`.\n",
        "  \n",
        "* Selects or filters out elements from an iterable based on a condition.\n",
        "\n",
        "* Returns an iterator in Python 3, which can be converted to a list using the `list()` function.\n",
        "\n",
        "**Example:**"
      ],
      "metadata": {
        "id": "kb-CR4wB200H"
      }
    },
    {
      "cell_type": "code",
      "source": [
        "numbers = [1, 2, 3, 4, 5]\n",
        "evenNumbers = list(filter(lambda x: x % 2 == 0, numbers))\n",
        "print(evenNumbers)"
      ],
      "metadata": {
        "colab": {
          "base_uri": "https://localhost:8080/"
        },
        "id": "JWwoH4D-24Rt",
        "outputId": "fef24618-12ed-48ce-b8eb-c24f6eb82e5e"
      },
      "execution_count": 62,
      "outputs": [
        {
          "output_type": "stream",
          "name": "stdout",
          "text": [
            "[2, 4]\n"
          ]
        }
      ]
    },
    {
      "cell_type": "markdown",
      "source": [
        "Key differences:\n",
        "\n",
        "* `map()` transforms each element of an iterable, while `filter()` selects or filters out elements based on a condition.\n",
        "\n",
        "* `reduce()` reduces an iterable to a single output value, while `map()` and `filter()` return an iterator or a list of values.\n",
        "\n",
        "* `map()` and `filter()` return an iterator, while `reduce()` returns a single value.\n",
        "\n",
        "In summary, `map()` is used for transforming elements, `filter()` is used for selecting elements, and `reduce()` is used for reducing an iterable to a single value."
      ],
      "metadata": {
        "id": "lQAcHVS72736"
      }
    },
    {
      "cell_type": "markdown",
      "source": [
        "## **11. Using Pen & Paper write the internal mechanism for sum operation using reduce function on this given list:[47,11,42,13];**"
      ],
      "metadata": {
        "id": "lQ61i3a03Ao2"
      }
    },
    {
      "cell_type": "code",
      "source": [
        "from functools import reduce\n",
        "\n",
        "list = [47, 11, 42, 13]\n",
        "sum = reduce(lambda x, y: x + y, list)\n",
        "print(sum)\n",
        "\n",
        "# This is the programe and below this their's the internal mechanism how does the sum operation works in reduce()"
      ],
      "metadata": {
        "colab": {
          "base_uri": "https://localhost:8080/"
        },
        "id": "SKpDNRXa4iOu",
        "outputId": "e808ae14-70a1-4223-fa71-2386fadec0ee"
      },
      "execution_count": 71,
      "outputs": [
        {
          "output_type": "stream",
          "name": "stdout",
          "text": [
            "113\n"
          ]
        }
      ]
    },
    {
      "cell_type": "markdown",
      "source": [
        "![WhatsApp Image 2024-09-06 at 4.22.24 PM.jpeg](data:image/jpeg;base64,/9j/4AAQSkZJRgABAQAAAQABAAD/2wCEAAYGBgYHBgcICAcKCwoLCg8ODAwODxYQERAREBYiFRkVFRkVIh4kHhweJB42KiYmKjY+NDI0PkxERExfWl98fKcBBgYGBgcGBwgIBwoLCgsKDw4MDA4PFhAREBEQFiIVGRUVGRUiHiQeHB4kHjYqJiYqNj40MjQ+TERETF9aX3x8p//CABEIAzwFAAMBIgACEQEDEQH/xAAvAAEBAQEBAQEAAAAAAAAAAAAAAQQDAgUGAQEBAQEAAAAAAAAAAAAAAAAAAQID/9oADAMBAAIQAxAAAAL7QgAAAAAAAAAAAABLAABKAAAAACAAAAAAAAAAAAAABKIAAAAAAAAAUlQqCpQAAAACgAAAAAWUAAAAAAAoAAAAFAAADyAAAAAAAAAAAAABAAAAEKgAAAAAAAAAAAAIKAAAQWAAAAAAAgqUAAAAAAWCgAAAWCgAAAAAAqUAAAAAqCpQAAACpQADyAlAAADl1AAAAAAAAIAAQqAAAAAAAAAAAAABAAAAAAAEKQqCwAAAAKlAAAAAAAKlAAAAAKgqCpQAABYKlAAAAFgoAAAAAKggEsKAB59Zq+f9jBv1Ky6s0nCNAAEsBkNbF3O8sAABAAAAAAAQoCCoKgqUELAAAAAAQAAAAAAAAAAAAFgqCkKAACoKgoAAAABQAQoAAFlAAAAAKgoAAAAIAAABi2YdRsz5NTZm7eI153Nfozx7xTh4rUlhi25K1iGbz6NPnh3PHjnwr6NIJkNjLpKQrnyNKeT28+hLAAAYzYyDWyawAAAAAgsAAAAAAQqUAAAAAAAAAWCoKgoAFgsBYKgoAAAKgoAAFgqUAAAAqCgAAAgAAAJn0q+b03QwcfqrMum3NAy5vpq49SJm0Za2EjJ53cjNuz6Dl8/6eTU0dOPrN949eeuW7JrDHpjD0046089XGM/0PmaK1HmPWPXjNOH6GCtvrjohz6ZT1o8+gAAAAgAAAAIKgqCwAKgoAAAAAAAAAAAAKgqCpQCoKgqCgAAqCgEKBYKgqBZQABYKgoIAAAAAAAABLACY9ox+dw5+6Ionn0M2ihKPHqwx7fPonHsHj2PL0Jk1cq68dCPHjpnqa/Nhl1Zq1CAABCoAAACCwAAAAAAAAAAFgsBYKgqCkKlAAAAAFgoAAAFgqCgWAACoKlAAAKgqCpQAAAAAAAAACAAAAAIAAAEoEAAAAAEonLr5M/vvQAQsAAAAQsAAAAAAAAAAAAAAAAAAACwKlACCgAAAqCoKlAAFgqUAAAAWCoKAAACgAAAAAAJQgAAAAAgAAABCwAAAAAAJZQgsAAAAgsAAAQqUAAEKAAAAlAAAAAAAAAAAAAAFgqUAAAAWCpQAACoKgoAAAAKgoKAAAAAABLAAAAABLAAAABLAAABAKBCoAAAABCoAACUQAFgAAWCoFlCUAgKgpCwKAAAAAAAAAAABYLAAWUAAAAWCoKlAAFgqCoKAAD0AAAAAABAAAAAAiwAAAAgAAAIAAAAAAgAAEKgAAAAAAAAAAAAAAAAAAWUAlgsACoKAAAAAAAAACgAAAAAqCoKlAFgqCoPYAAAAAAEAAAAQs5+ygJQAAQAAEKAQAAAgFgAAELLAAAAAAAAAAAAAAAAAAAAAAAAACgAAAAAAAAAAsCoKgqUAAAAAqCgA9gAAAAAAQAAAJ59YDz9D53au2Xf4MW3D9GyjNSwAS4ja58TSAsAABCwAAJYKgEFwb6PCPZCoKAAAABLCgAELAqCgAAAAAAAAAAAWABYKAAAgqUAAAAAAqCoKlAAAFgqDosAAAAAEAAACAAzTr7Lh38K4bKKSKgAYd2auvDR5joAAAQAAILEKABk1fPrps+R9YwXVwrY8e8gFgsAAABYKADh0y9zHtz+60iFgpCoKAAAAAAAAAAAAAAAACoAAKAAAAABYKAAADqQAAAAEAAEsAABAeDo4digiwAAh5PTPoAAEsAAEAAQqAADHsQ489Q4aAJQAAAAAABYMezLoMk1Z62CAAAKlACUAEKAAAAAAAAAAAAAAAAACgAAAAAoAOgAAAAEsAAEsAAAJx75a9aOfQEgAAQePfI46+HcAIAAEABAAAAAZtOU6duHcAAAAAAAAAAAy9/YAAAAAAqCpQBAAAoAAAAAAAAAAAAAFgAWCoKlAAAKlOqAAAABLAAAQAAEGTXjrZUgAACAZ++Y7dPPoQABCwAAIAAAAguTVlrv08+oEKlEolAABKAAAEsMe3DuoIAAAAAAAAAAAAAAqCoKAAQqUAAAAAAAAAWUAAAA6gAAAAgAAAIAQsBj15DbFIABLACZNeM2AAEAABCwAAEAABj2YjbYLAAqCoKAAAAAB59cjhsy6qCAAAAAAAAAAAAAAAAFlACACoKAAQoAAAAAFgWCpQDqAAABLAAACAAASw85NnE0QAEsAIAABAAELAAAiwAAAAY9eStggAAsAAKgoAAAGbTjrr28e4WCgJQQqCpQAAAAAAAAAAAAAAAABYFgqCoKAAAAAABYOwAAAEsAEoEAAAEsDzSgAQBAQoCABAAAAQAAAABBj2Y9TaM0AAAAACpQgqUILi2Yq1+vPqAAAAFgAWCoKCWCgAAAAAAAAAAAAAAAAAAWCoKAAADsAAAQAAAgAAAID5XXpg65+nol5aSwAQGHdxPMyba7CIABLCwAAAAAAEomPXkralgAAAAAlAAAAGDfg1N1M0AAAAAAAAAAACoLAqCpSUAAAAAAAAAAAAAAFgAWUA7AAAQAAEsAABCoAM3nWrBq6IAEAHj1wMn0suqkIAASwAAAIFgWCoAJk1463JYAAAAAEKAAAB8/fh1N6XNAAAAAAAAAAAAAAAAAqCpQAAAAAAAAAAAAAAADuAAQAAAgAABAABLAAgAEHLqPNAACAAAAIAAAFgAmPZjrbZYAAAiwqUAEKAABg34dTbTNAAAAAAAAAAEKlAAAAAAAAAKAgqCgAAAigAAAAADuACAAAAgAAEsACQrNpEABAAQACAAQqCpQQAAAAAA84++avoWIKJQILAFAAAAAJg34dTcM1YFAlCUAIKAAAAAAAAAAAAAAAABYKgFAIACgAAAAA7gAgAAIAAAgASwcOvza06MukzdvEs1IzTP2PUDzJiPoMewJyOzn7LHg9uHmtIgAAAAAADF3zbqtiKgAAAAAUECoAGDfg1N4zQAAAFgqUIFgsCgAEKgAqCgAAAAAAAALAAUgABQAAAADuABLABAAAAgBABz6Q+f3mivlabs1PGfXMX4+7zsEsOXDp5Jrz6CZdWY8++XWu3zPqYTQ7ZzL14bt57jnoAAAAADBvwbwCwAAAAAAAAAGHdh1NwzQAAAAAAAAAAAAAAAAKgqUAAAAAAAAAAKAAAAAO4AIACAAAgCAAQASwlCA82wA88u45dKIADnl3Dly1eD5308+mggAAAAQqDDvwbwAAAAAAAAAABg3/AD9T6AzQAAAAAAAAAAAAAAAAABSWCkKlAAAAAAAFlAAAAFlOxCoABAABAAgBCwBABAAgAAEAAAAAAAAAACAAw7vn/QqpYAAARSVCgAllAAGDfg1N4zZUKgqCoKlAAAAAAAAAAAAAAAAAFAAAAAABZQAAAADvFIAQAELAAQBABAASwEAACAAAAAAAAAAAQqAAD530fnfRoIWACwAAFgAFAAJg34dTcM1YAAAFgqCoKgqUEKgpAABYKAAAAABZQlAAAAAAAFlAAAAOwAEABLBKEAQsAQEKgAgBAAAAAAAQqCgAAIAAAAOHagAAAAAAAAAABg34NTeM0AAAAAAAAAAAAAACoKgoAAAAKlAAAAAFlAAAAAFDqAQAELASwSwAEAIABAAQAAAAABBL5OPfHz0+k8+sgBCwAAAGTXwO3jhwPoevHsAAIKAAAAAAB8/6Hz9TfZc0AAAlBCkKgoACUASgAAAACgJQAACgAAAAoAAABSKIoA6oABABAAgBACAAIAEAAAAABLAADP8AL3eNz6N+dvxfRAAAAAlEsPmauH0NKMgED5/Plj65/Q9fHvloAAgqUAlB836XzdT6NlzQAEsAAAALAWAUlAAAAAAUAAAAWCgAAAAqUAAAoAAAOsACAEAEsBAQsABAAQAAAAAAEAAABYAAAAAAHj3DDvKCEsAOd9qVIqCoLAWUAiifO+j87U+iM0AAAAAAAAABYKlAAAAFgoAAAFlAAAAFAAABQAAAWU9kLAELAIAIBAEAABFBAAAAABCwAAAAAAABCoAAKgAoIAAAACkFgqAB876Pz9T6AzQAACUAAAAAAAWUAAAAAWUAAAWUAALAUAAFICgAKAAPQBABAAgEBLAACAqFBAAAAAEAAAQqQ9PPoAAEKgpAAAAAAAAAAAAAAB876PztT6JM2xQlBCpQAAAAAACpSUAAAAAKAAUAAUAJQAAUABSUAAAPQIAQEAIARQARAAAAAAAAAiwsAQufvkMmnPqrvffzjtr+T9OzoM1LCTxnNoAHLp8qvq0gAAgsBYK4+jolCCgAEHzvoYNT6AzQLAsAACoKgqUAAFAAAAAAFAABZQAUAAAAAUAFAAAUiiwBACAQAIFEQAAAABKAAAAIogAHj3yPePRnrb8/6HzLO27PolCJg+hK+Zw+j71HYxQOWb3x1O/f4/2V+b9P530UqM0DDNN089zLBqydNzP9PD1OPXP1s3DnoADlk7eK2WWAAAAAALAoAAAKAAAAABZQACgAUAAAKCUAFgoAFlAABABAEAVAASxAAAAAACCgAEABCgefQwaeyph3jz7iAIDL26AAAQ+fu46K+Rp3LPnb/TNA5OoAwTc1Pn6+1X431vVgIASiAWUEKgoAAAAAKlAAFgoAAAFgoABQBZQAoAAAAAUAKAAUgEBAQAEABAAAAAAASwWUAAQAAAAAAAAEAABKIBYLAAIKlCUQKlCCoKgsAACwAKgoAAABSFAAAKAACyiWUAAWUAWUWUAAAFIsBQCpQAAUA8wBABBQACEAAAEKlABBYKAQAAELFJYKAAQAAAEAAAAAIBYLAZtOc5bcuavpuPaAAOXnt8qt/Hnts6DNAAWUAAAAAUAAFlAFgUAAABQBZQCgFJQlAAABZQAoAAA8AgBARagsAAEAAAAAAILAAAASwAAoEsAAAIUgAAAECwAAAAMODdr3PXnJ4zd3Tx7gQufRmrD9fh3sDNAAAWCpQACgAAFJQAWUAAAAoAFlAKCgAAAFIolBZQBQAA5wEAFSiKJZSBAAAAAAAIAAAAAQpAACoAAAEAAAAQAAAAAAAAlAB836UpSAAAFgpCgAWUAAAoBQAAAAUAFIoAWUAoBSUAAABQBZQAADkBLAFSwAABAAAAAAEsAAAAAIsAAAAAAIAAlAIAAAAAAAQqUAAAAigAAAUAAAUAAKAUlAAUiwKAAFlABSUFABZQAAABQFABSKAOKAAFASiLAEAAAAAIAAAAAAEsAAAAIAAAAgsAAAAACAAOXo9gJQlAKgpCkKlAAFgoAFlABQBZQAABZQAAUAWUAWUAAoAAFBKAKlBQAADjAABQAEsAQAAABLAAAAAAAQsogABCgSwAAgAAAABCoLAAAw9eO7Uw8/TT6HzdVyz/Q+d9DNoD5v0qHyD67j86PruHcoADxnNjj2DJ4rc8/OPqM+iAKlFlBmrTZY8fP6eemd3vz6xoIAWUAUAKABQAAUAAKACgAAA4AABQAEsQAAAABLAAAAABAAAAASwAAAEAAAAAEsAAACDh29DL42Ky5/pSzn1M3xi+gPjfWy7q5Zfeiy/M+rwzfGv5+89JQDFrz8q2+vFjF408tzTm35Ya/nfRlmXXkK6+7M02UwYft4dT6HqZca47Zh1Po8eWc+lx84TT7yatTdZeWllACgBZQAAUAAFAFlAAFlAM4AAAUQABAACCwAAABCwCwFIAABAAAAASwAAAAILAAQAAAKgAAefQz6KOXSjz5vzzrulAKABZRy6h8/6KsmsAigWDPoqr49U+f21LM/DelzedYx9+ekUgCgoAFlAAKACgAAWCgAoAM4AAEsUAAAEQAAAAABCwALAAABZRIAAABLAAAAACAAgAAAAAAAFlJQAAAoAKlACgACpRQAWCgAFIoAWUAoAKAAUAFAAAFlAFlAAM4AABFssAASAAAAAAASwAAABUpAUEgJUKABLAAAABKIBLAAAAAgAqUAWCgAAAoABQCgAKBSUAKgoBSUABQACpQCgAUAFlAABQAUAChTMIAELBQACVIAAQsogAKgsAAAFAAASwBAABCywAAAAIAIACAALCwALAUAKgqUAAoBQAUJQCgAWUAoAFlAAFlAAFlAFBYFlAFlCUAAWUWCgAWKziIAAFAAQAQAQqAAAAAAFAAAAIQAAABAAAEAAAEACKIsAAAAKgoCUWCgAWUAoFlJQWUAWUAAoAFAAUlAAolABZQBQAWCkKBYKACgAAzkLAABQBAAEAgAAAAAAAUAAAQsEAAASwAAgAAAEogAAEsAAAAFgqUAAoBQBZQBYKCgAoAFlAFgoAFAABZQCpQAUAAWUigBZQAUAACv/8QAAv/aAAwDAQACAAMAAAAhAAADDCCKCCCCCCX/AP08wwwwz/8A/wDvP/vDDDDDBBR//rDDDDX/AOpzyww1/wD8IIJev+oIIIb774IIJb6IIIIAAAAILb4IIIIIN/8ArDHP/wD/APvOMMNMMMM8MMMW/wB7zjDDPLT37/8A/wC8NPf+8IMMMPf4oIJLb44oJLb4oIIAgAAMLLaIIIMMP+MU3333mGEEEEMEMN//AL3/AOcZRz398/8A8sMMPNP/APLDTz3/ADzyw9/rigktvrggksvvjg1AAUNgAgw1/wDNeMEX32kEEEUE000kV330MMN//wB7DDDDzDz3/vPHDTzPPDDzz37DHz3+qCS+++OCCSy+DBBBZRbcX09QxXZC1/DFHLBV5xnL3995hBPf/wAwwwxywwwwwwy8/wC8c8POd+88Pf8A/OD3+uKSyy2OCCCSBFBBx2jSBydolTpxbI+Hp1ozjkzXf99BBN//AOwzzz3/AM8MMMMMMMNMNP8A/PPb3POOCS+OCGWuOOqyyuOCDJtJBBBBBV9hjhx9fRFJttNkTtHlV5BFN5zDPf8A/wDsMPf/AP8A/wC9+888csMPPPe8NJba44Kf744pJb444pJ/+010EEEH32EEE320FEX3HnGFFOsEV3nEEd+NPOMMMMMONP8A7zz/AP8A/wDfLDPDD3/POK2+uKSyyymOyyy2/wDvvfQQSTfeQQQffeQRXfQQQQQaTXfQQTXcYxywwxwwwwywwwwww8www9//APe8tPNPO4oLLY44ILLLY4L7777/ADBV99xBBV99hBV99BdxFN9pBBFNpBJd/v8A/wC8+ssP88d8MMMMMMMMMMPe9/8ArDDy+uOayyvOOCS2++++uDBd99BBB15BBB99pB995xhBN9xlN999/wD/AP8A/wD/AP8A/wD/AP8A/wD/AOsO9/8APDDDDz//AM9/www9/wD449sOc8/7774IIJv2kEVfkkEEX32UEX2kH2HEEVX2FHnHHOONPPUPfPP/AL3/AP8A/wD/APwwwwwwwww883zz2888/wD89PP7776IIJ/sMPvLrcFX3cP3XnGV20G03lE8U0EEEEFUEEVU8MNOPPf/AL3/AP8A+/8AvDDDPLDDDD//ADzy08/7z9vtvqg3+ww/aashBTfVP/eQRfYTVccVPcNf7XfffbQwU8vbxzwww16x/wD/AP8A/wD/AP8A/wD/APP/APwww0997ww8/Rvvqgx/61/eRexwdeQe/wD+FWkF2kU33me/MkHGEHX320+lX3/8sMsMcMPNPP8A73/zzzX/AP8A/wD/AAww8/8A8MH74oIJa8NekEGQgW0EWu8k30F2F33FEEcMEEEEEEFHH28NHH33388sN/8A/DDDDDDDzz7j/wD/AO/+88sNP8s774oJb8MekEWSf0EHkut3mV2kHmEEE1kMUlGEEFNX31UEEMEEFVGn/wD+/wD/AP8APPDDHLDDLzzz3z/rDDD/APjgggvwww7RXXmfQUYc2YRfcRXQQSdffzXfTTQQQQQUYyQQQQQQUQYw889//wD32kM300MMcMMMNf8AvvLD+uCCX/LD99pV7d9Vh99Jd5Fd5B1995xK199159NBBBBUWtBJFNJBDDDDT/8A4w8ffffffb7zzwww089/7/vogl20xffQUf8AGFkXkE3F2EEF3nEEEXVEHX33/wBJNJNYb9999t9tPDvDDzDDDD5xx5V9/wD/AL77+00MNPPb4Ib/APD95hBpRLVpdTih9hVd995BBBRaJBB1VxB199vtjBxh9x19/wD/APf8988uMMEEHXnf+tPPPf8At9pD++Cf/jX95FPvwfxFhLAZBBV5BBNttN5tJBFBBBFBR9xZLBBNBFF//wC/+8//AP8A/wDzywQUYwwwwwww49ffffoh+6QffYRe4VaTaRYfQQeYQQTfdfbfcKQQQdSQRQQQQYwQQQQQQ4w1xyw8w4//AP8A/wDwzzwwww8ww8cffSg/+wQfYQVSTe3eXeWYTfRTSRffffXfcrcYTXeQQQQQe/bYSSQTQwwwwwwww049/wD/AP8A/wC8/sP/APDDDB99uD/pB95BN5VAQHJxZnx9FbZ19xBBV9pWtN99999hdN9/19999tLPvfDDHP8Azwwwww3/AP8A/wB/+/8AvsMMN32oNeN3kEGkXlHp2t9UNEvT6LH30kEFEEP1332kHX1332tXmFHHX/8A/wA//wD/AP8A/wD/APPLDDD/AP8A/wD/AP8A/MMNP30IPsP2kGk3GXlWmFX0FH2ENcj3nEEEU0P3EkEEEHHHGFeEEEEHOfPOf/8Az/z/AP8A/wD7vHLT3zz3/wD6ww//AGsc+MXGF2HkV2X1kHmEF3mEEEEEEEEH31FkEEFmUEGkEFMGU000sMMNMMMMMMMNf/8A/wD/AOPMMPf8+sMM/wD/AGvx6RXaXReXfVZcYTadQQQQUQQQRTfeRPbcVffbfeQQe8bfff7zzzyxzx//AO8MNf8A/wD6ywwwx3//AOtP/wD/AP63bVUWRXRZTYfZffYQSQRTQQQTfeVee9fY+RXYVfffd1dffU5//wDvPPOPNf8APPDT/wD/AMsMNf8A/rDX/wD/AGGMf0VlVXmWGkF2F33kEEEWXQkEV3HX0tvPEE0EGkHHXFO0HmMsdf8ADDLDTf8A/wD/APDLT/8Awww3/wAMMNfvHMM/OWl2H2Wn2EmF3332kFX2mo8X2EEElfwEF2csEE0kGEOkEFf3vv8Afv7jDDDT37DDD/vDHL//ACx//gw1/wBsPEWFEWV2F2l30HHGEF333233kEEEEcAFX12U012kHGv33/8AnP8A960/7ywww17www36w3//AOMNf+Ne9+sdkVk2HFnXkETmEUkEEV3XHHXkMEU33030HnX3H0W033vXHPMsNOdf9P8ArDDDX/rD/vrH/wB+wz+/w/8AMMfsel2HllX2n0y0EXkEF33kEkHEEUUX3nXXmFUEHH33XmMVkkcsONOMO/8ALjDD37/H/wC1/wCMON/6NcuI8/8ArpFlh9E4Bdd99BR9pB1dNZeudJRp19NhBBNdtLJNBBFz91dd/wDzzyww+wwww8/40/61+xxz/vonojvusnZaeXQaBfTffSUQdaQceQRUv/uVTfwc7MzfaIxKv/ceQqcYdccc3www/wAMMf8A/wD6w/w343vvgov70vqggp6XQQGIFfeaVcQTUYRfRRQwDTbaR6QR3jb6YQR2OgQUfaRTQwQU9/yw97ww/wD+8MPtOtfIII47+J4Irr5N12F2l331mEEFWkEF30kEEGEEF2kFH21HE0kl0k0013HV388MEFfvsP8A/DX/AE6ww6x66lr3+9+xihnugmReXIADffeRSQRbQRfeZWbQQRecQRfcQQQfbXe9s9dXawQfawww3/4x/wCsO+MMN/setcLuOMIIao7Ib54HkWQxzz332EEEE132kFX30FX20Hn20EF1233kErIMVSEFnX29ulcMN/v/APrD/f8Ax363xw1vvuspqnoign3fGMKPffTeQQQfffQQRRffTeYQXcQQRfaQQQQdQYQQAwQVbRTfaw0/x+wh/wD/ALD7zHq/DaiCCOaCqOe+rV4U8899BBBBBV99xBB19999hB99JB999pBBBFJBBBBxBB95B19jX/H7n+73zDPre62iWqKWu+iae6yCP9gAQ095xBBBN9999JBV99Bh99hBNd999hB19hx559NFFJB9tF1rX7XrW+/rP/7DqOqC+Ce+iSea6CCOdpAAAU19pFBV999pBBFR99FBV9p915xhFNd9xZABGxcoydBV7T6iL/brwqOATzr+i2CWie+i++CeCO++9JAAAV99BBBV9xxBBdppxhV99BF9xxhBV9xBNDOddpStyPJFFXCvi27W2OiGmprqWzGqO+6G+6WqC+qCtpBAE89pBNd9hBFd15pBBd9pJBV9hBDPdpd999N95hTT3z/XtpfgB9HucYl+Oqz+WCSq22CeCCWuy+CCJBBU84Ahd5xhBBFd9ZhJAh9BBBV9JBBB5h951BxxxBphBBdB/JVzX/fn/v3/AO816hgnglutuggvqnqgtgQQRFAAffcQQQQVfeRQEQAeZQQVZQQQU+VfQQQTfSQZQSR/V/8At0N/NONc8PuMMsJcrYb6JaoILoLoIDgEEVzwAn3kVH3k132kAwwBS0EEVU0EEE2n3H33V312HU0kHFfsFMvcP+/8d+sNeoJaoaK6raooJaq4L6wH33jAByEEU3lHX0kADTwA2kEEF3sMflGF0HHX33300H20F+v8WuOt+tf9f+NfqIbPb676I64YIYJ4J74V33CATykH3mFX3n3yjCAR2kEFX/P3XEFHkEFX3XH20kH0HlOtG9df8Nete8P+IJepYoLoJ6rI6pLpL7z/xAAC/9oADAMBAAIAAwAAABAsMswB/wD3v/8A/wD+9b8P46MsMM+sMNPMNP8A/wDf/Yw0zg1ffSUa/k5jywnO/wD4MMepYIMMMPsMP8MPeteMMMNMNPfX8sP/AP8A/wD/AC/jVwlN5xxHPex/n/7z/wA84R7e9T388zy7Wx88/wC9KbrO4MJLfMr8vfe8tM8sO/8A/LDDDLD34/PJf/pwoCodvP8A+wh33/4w8Q8YXed+8Zy15SU+3842Y89y5892trz2tzzywys7y973/wC8N+9/P88BcNalTXujHWBJVnMfvNf/AP8A/wAM888sd/OMFPH3nOX/AP8A/wA/s9vKc8fONcc/PZ+8tsNcJr+vO9P/APPT/vP387TSeFH3Y/1lZKzpzI+3BNDXv7U+c/7HfjNdpNxzjHLz3/8A/wD/AHPjnLPDHrS+OSyyyLSKznLnPf7PDTzv/wC//qDnawUHyQVCyytbcsJz5HmWLCH4/wCstHOeM889uMwOONPMPPO/O/PM92hoJ/8A/wDwzcZc4wx8w/5z09d09/jn6QQQSgHUWwL6Ru/avyJFMCx+x3xzc70zyx//AMtPLLO9+888dvPM80uPKOtuf/MrP89u+lc9/uOABPOP688OkF32k+9P9MeM8c9/M5KOd+c/uVF+457PvPL9+8MY45PPNNMsP/P9vI5/sN+/uc89+s8Md/tr2kIP7Ko+8XmEPvMe8dsPvPOMOs9OPvP8v9mcvLMcMPPvvP8Ajy++Pv8A/wBvONuf+u7Y6PPM9s8/Pc8/scP/AP5FANiW+rPrDXvDf7XDDrfzHPzXzznP3zrf9v8A/wC8+ssP88d8NPe8MNLPb78ud/8ArTyfznPvPPgV/Tlb7z/hRwye2r/LDjH/AOw/416//wCc9sMPO98/vPfX3PfvPPnGOPfv/wDrDvf/AD0kt/zwwnu/88928tz3q96jjv8A9MP00Ew5esNiLuOMfMNeMftfPu+PPdfN+Mc8811u80uEs88Mf/v+O9/8MMNPfPLLY55Ic+s44bf92c/8MMN2kFy3mGYa5kNfuo2/cc89vMu8+MjCc/PMNOPcaMdt1GMds8tMctb/ALj/ALwwwzy8osvg0zzy5zwbXd7zy14nh+YItv7Pxz490v8Afubtst88dsbLvGdPvP8AvRj2VTtFND3/AK1+4wwww89/v/8A8/8A+Dz/ALiu7w8zUx/z1/jvl1Ywp/Dgoh/7YAS19+y0xz/52RoW/wA9/wDb/wDp9CO7+fSYTWdYMTYTwxywzzz+8881/wANPc/f9HP/AL3/AM00rlX+45zR8/74Osz4/wDs9/M+9/6ocPPPMPu//dFKc8MPPUwgNzT0AAHfvb884ZwMfsPe88vOdMk+MOcEELgVfMdmSOPudjFuc9tfOduMM8ggctOMM/0sMPurvnf/AHrvXxiT2+38N8ABEoAE3PPPLPTpDD3Dzz//AC6vwQez2+2yy522t2x8z5y843285p2/zzw9/wD/APrIITLDDDXv/d+OOKDBDCiAO+OQw0yW82rTvvLzTT/DWC3B/DHCyfj37/rzfrn73z3zzHPlbz/3H/PTjTz9XvDLHPbT5hD+uCDd9PD++zyyssOOAAQtP7znDHf7Wn5H/D/XkPbPvjjLr7T7DfHP/wC507/y4w9fyzy3z7M888785yQb00zs0wcRzzx62/OM988JjwcYTS8/7+g8f/245+OF02+Ke+213/8AMcMPPM5tf9vu/tvPdkPHc98M8senPPvN988uEEN/8scgBa44YpG/+tG8vs4FlX8ecWHP4+PtgseMNOf/AHrvvHvoJLT7zrH/ALwzz2c/8/8AvtEOcMc9PPPN88sMO9n/ALTzzz3dbz3/AA3xLF6/8355W18w8xy38w93/wCs+stefsmkMO/8sNff/wDzlDT73/8A/X/65mvz/wB8P/8A99DPPDDDDzT5PPD/AIwvJaw73yx/7zXx241+z85z258www4ywR84z38wwwww8N746ywz0Qc84w8hn72yww0+97z+w/8A0MP38P8ATq9Xr/v7vn3d/ZLDTB9TrVoTjP8A/wCtPc08/wD/AKw943z/ANR//vfuMk298MMc/wBPTz7z/hDb33/7/H7P/wDZ/wBeIcl8fsPPc9d9jEpMmelfIRsMPd/+/wB+Tbzz3/b/AC88wPx37z28MwD99/fdfffzy84/w09//wDf3Pf+1Pf8Ken9cPe+8ee+P9ON9P8AbORdDHPvvHJSDPz/AP8APMc898xPf/v81s099+s+MwNHHPO0Vm8s88vPGv8A/BDJmKdDPbbbHnTDjvjHfzbnf/f/AP8As/8AD/pIv/zDbnDD7j3gD/PDHZzznt//AM48/wD+sPLb32c//wDLDxrD/wAXf26Ld700+79+48w7y79y/wD/AP8A6874xz8/+/742196/wDsMP3+esMEQgc/sasMMH9PesJDGFuMP/uN36y9330JR/NfMfdONevuMetd/wD3vHPDTzL7HrHlLDdH7jLz/wB/2Iy4w7mwyhjzT3z69zz87wcfS936z/6w7DPf42Zaww09xw018yyywx//APOd/YcMcs8sOJoQ/u9/9f8APLPo7/HZoVmMgBJmThDCzWDfvHdDb/nfDH+44zxMutDT/wC814+2zyyxyw141+/+/B/28w26TLw+7IA4zyw69i841+tJEEZeYd897isAQ/17R+9x/wAvsJ9akAdem+t8cddtvvd8P9+98NteNevcMMMMMFHMefyc89+sfs1PPftnAAlW9GEkLf8ArvBH/iKfnHfjDKWiqeuqvHnLPDLDn/7mPX7nX/HL7PDLH9jHP7DP/DXfj/3HvP7JbPNJ52tZoBvFpA23rTjXDTN7f37eyS+eezH7nl37bjP3DDDG/wD+x/w3+x5ywxzyzxx/y2936+/380+6w92y1SR3qVeUUSYNjyz1+weQz9Q54t4qup8sxlew3+64po2444/7w1w90537/G997/48F48713yQ/wDOMOUNtNO3120kHVENPb47eMfYuPp7rI9+ceNd/vPMPOd/v6f/ADDDzz/LXDznznpEdjw8pzCC9Prx8rk4zPjz7HXLfP8AVQQUVYQSww3619199t7zw5whh/7z3zc05+nkhyx067yz73588+2QqM8/+VwxTQ/l780GNv8AvP8A7nPF/iIZ9IXdsHfCfnFfxHrOzP8A880p9x90zyS++2x3355y08169/yw4ww//wDuMtcNP+c/88stMs889uv9P00Wu+zroQBxS/8ATrf/AK0zg60ritumz+73z35w2nqj/wCsect8e8MeM8du9eMfe+Mes/8ArzrPfooMLL8r/wDx6RXfdPomnLDxpj3430yyhyprjz2y91+z5+457jnvv/6zwxyz2/141/8A8NM/uvvNP+N9vMMfvFVz/MNOcte01e0W6SiEap82F9O+vb5asc9uPuueec9nuJLKqMPPMf8A3j7Tj/PHH/8Az/3/ANs/cMP/AP8A/wD/APJtjz/A3frPbzDpcs0KWPfDCaPRzC/WWzjPPzzXvzjPxDGe+6DD/wC/8/xxyz6w99/zw084w+86481w9016www/80+w2wyw9aRnksj2tsDs3r254y6160w7/wCPvM82N6pKIOc//tP/APzDD3vX7z/D/rf7PfDDDbj7zyLD/wBzxxy/x7u3+YE69a7fu8w/3r9y33x9/wCtec/se/MtfqIIIsNfv9ff8tfMMdMfu/NMNPusc9/c9/O9NAu9PdsOpev61pJ7Ejo3cW24vtf99fuef+c88+MPMf8Aj3CCCXDjz3DXDPL7z/8A1z21047x4zwyw0wy87wHnQpwqX9m+zPFuiCTJ/7GpJoAiz0u789++/8Avut8OsNMcMIYIPsc8+t/sd/ftesN+9eMd8N+8E0tNv8AzzD7DHUk8k9BXfwB8PFPlNqeK+k99H/7LbPXDHr/AD1x394w1uhug05z3wwxz8018wo6yw09w9/yw7y8xy+xzyx6w9281/X58eZWWhri1+cSa+38x6yy2w3174y/z+4wxlso327204w1/wAfv68IO+8MNNvv+NGf8PuMM/csesefEcFXnfWDhqJ4/fuEHgP5tvM/cusf9PfsP1kMMd7q4vucdPvc9sNf7LL5bOsMcfO/sM8e8+Pfc99+csM999HEulxnxbpduOsaovf/AP73n7LrLX//AJxx7Q7/AO474p8sc8f9sPf74oLo9+tPN8WEW+M8/vPf8f8A7PjLv3l9VTkpPSpP+++iKbjbyjPbfnzvHTvX3Xn/AB08znpohw85364x6xljmhj1yw1zQc+z407w008y/wD+89/8vsWGeUEMYEuguYMKNc6O8tds+OPNMOdsff3/xAA3EQACAQICBggEBgIDAAAAAAABAhEAAxIhBBAgMDFBEyIyUFFgYXEzQ3JzI0BwgZGxYoBCU4L/2gAIAQIBAT8A/SUggAkcfJ9tcTqPE1pTEi2PAGPanQqRPhNBSQTGQ2ACaKwJkeSNFE37eXOiiXr7ZwgpeiXpcQxZ4R6ClCDRs2jE39auiuYcWExqTgx8BUUFAWT+1e9KqGYJ4alUmfSipAB8dwBNBWNEFTB74R2RgVMGumaSRlnNJfChpSS1FyVC6lvELBE0TJpOw+oO2Qps2Jq01sW3lc6K8xwpCArVcbqoPAUVIUHxpcJgUCRcladW1KJJq2paRFEQTS5sKJlie/wxFYz6bBYkRqNEzrk0jBc6njSn1omTS8z5PGHnRbkB/pjBifJ6riYCnDYY5CrbLwNvFWkKq4QEwyJ2FUsYqMjvGUrFQYnvzEcMVZc23DVcuM7Ek7CGGmpyO7tYMXWNXOM10rm2RyjdkAFRTxAgd4ASaYFSQdoiDvJmgxHCiSd0+ZHtQmCCO8LfaFXGxOx2RTZsd4olhTcTvCxPeCGDtDjvU7a0eJ3fhVwAOQO8E4n22l471eO8Alh71c7be/eAMT+TtjJ/p3lvtr705l29+8IP5O18O77by0JuKK5nvBALlgFxGHh60zYmJ2E7Qp0wAyM53tswlz23mi/FHsaPeAuOIzotPIbA4irzlmHoN6vZf2ocN3o2TOf8D5EA/Due1Dhu9H43Ptt3iQR+TUfhvvNH+b9s94IpaY5UwYmWFOLJtkqGBHjsRNHI1B14HiYO5Pw13mj8bn0HbHdOdBx1Zz8au3kwhUQAUOM0zHLUDFN2jQmcjFEEDNgatPhxRxilZmcAk5mr4REIwgem2aPBfbeaP8z7Z76BjlQMNNPcLnMztmj2V3mj/N+2fIZonqJvNH+b9s+RGEIm80f5v2z5EneaP837Z76FG0GUm3JjjuEjEJ4UFm4RwFZbvR+F0/4Hvuy6JZIxdZqZSIncXMkVSM9i3ZsNaUm3nFGATG3o+S3voPkMU7l2k7GN4jEdxY7N76PKFn4V/wCnyhZ+Df8ApH999ASwq4HDGIFWrfSOAT71fREjBOsAlSdaJinOABtwYmMtq3lYvH6R31B5UikMcVaN8UVeaXPgNSvhM4Qfeuk/CxBFGdHMk6raWzaI6QBjV22tsW+Bmr4QhWVYnWLhCCbSn1omTMUbcpYt82zNXUttbBRYh8I9aupbWy64R1YAPOdgNFllniR32b1xlAJyFK7Ieqaz14jEcti4+LB6Cm0gmOov8UzFuIGqTwkxqF/ro0TCxTXicAAgKchV68bnAQJmP0eXDPW4Utk3ACgPGKIgkeGtFVwR/wAuVMAmjLI6zNP7DyWmkLaVEX3Y0EUuSzDDRiTHDVaBNxI8a0l8d0+AyHkuKjXacI+KJo/o1DRMZeUGeNHRfFiasFWRbeAZgyTSqq2WYiSTC1eyZfbPVdtlMPqJpLZcMZyAk0iFhMxREEjWEc8FNQQYNCw5fBziat2HuSRAA5miCrEHiNgKxDECQOOqzaRXVGQMYlp5CmjEY4Tl31JgClvOqYRS3gqAYJIMiiSSSaDuvCtIuMzAE8BQJXRvqb+qRlXj+wpxDe4nWSzLJuUvESa6YHSLr8gpirN0ABXPUBmKviLp9c/5q30OfSYvSKxaLyR/5oPo/wD1E/8AqrT2RauN0ZCkRx40iNcbCozqOmyzW5EHwMVbsKbQntM0ewFWrNrrs0kK0AeNX0sLbuYUzy/Y9+nMyakwBypUVpJMRRMmdpHCnNQ1O5dix2MRKheQoEgggwRTaVfYQXNC64TDOVC86qoGUGaa5NsLOcyf9o//xAAvEQABAwAHCAICAgMAAAAAAAABAAIRAxASITAxUCAyQUJRYHFyIkBhcCOBUoCR/9oACAEDAQE/AP1LI7PcYBVFz+UFdMdm0m4VJYwDijaJbBi6VLrZu4VWmzE1HMbBkVEwpwZCBnWCAVYCLJIvUXzUWgmo7wqgIJ1ouClESQmi8lDNFGCECKiU4xFRyQ7EjbcJqhBHh2eUB/sATAQhOBztQqMkgyZ2CYxQZ12L09toEFNaGjYOI6YuTclYAdPHEE8TqEoEEfeC46gcimiABtDEORQxI1A5fTORQxG5ageHnaOKcQpu6Ow3Hd84jt0puQ7Ddvs84jjDTqJ+NIYvlAQNgoGYjFcL2+cSl3DqNkbTRAxeIxKTJvsOxOZuJScvsOxOYYlJy+w1AmEI4IWw68jBkdcEZnEpeX2Gowb0xrplzqgKxkEYQ8J7ZhEAAmFRkuMyTgDEpOX2GtxcmtAG2FxOJScnsOwwuJxKTk9h2IMziUnL7DtCk5PYa3agw6L8sAzCmBOJSZs9hrbgS8XXBAjAbmTOxaeHEWsCkzZ7diAADYgdMB+bPPaD95nntB++zW2kQnOsiVRucc6+NZMRiu32f3rbjIEKk3Ey4VETxUfOJOVbi61ukhNcSSmWr5M1kTzGoOvpHdEwuDiC6bpTHONI0yb5u/GxHyGthgBmEWg54DREoUY6lARVdUaO5w6mUGZzmUxlnjJiP08Zi5F9ne2CSECTSHoB2WaMvcSf6RJi4X1uIslUYho7PcJH6bu7QA/kJ/CeCCXWukBEkvABuiSmZHzU11qU50QiY2JHWq2LMpz2tiUDIB2CQCKnucQXAwJgfkoTF+tlgJlFhLplC4IgFMaAFnSeAiCUMq4aMmo5Kz8Gj8p7JMjOITDLQnW+WFFL1arNL/mP+JwfaYJk5okNElbnQtTnuD7sgE97/iBcSExzy5snXQuMokjIIXDaIJyMIAARsQJlEShRMHBWBMqw0kyg2HT9UfqAdoDWj9Ydnf/EAEAQAAIBAwECCwcCBQIGAwAAAAECAwAEERIhMRATIjAyM0BBUWBxFCA0UmFwciNCBURQYoEkgiVDkJGgoTVTgP/aAAgBAQABPwL/AKlTSohAJ3/Z9jgU2p34zuzs+z90cQtQG2BP88CzN7QY+7gNQz8YWGN3MSzlHC6c5otd9yVCZj0x9kL3qT61bnXLq8FosBtNIsbSccDXtb8bs6OalbEbH6VZDEefHmMa7r0HuLPmXRjgJxXGp8wr2iL5xQORn7E3zrxWnvNWqaYs+NTZlaTbsUVbj/TVBGJIMd+dtXmritn+ajtDoH6hqNCi4LZ4HuI0OCa9rh8aBBGRwxfES8NxLjkjeahiEa/WoJuMZxjdTKGBBpbSMb6MKccqqK3cPGt7Ro7qnlaPGPGgdg4XbAqCUuDngLAUrBtx5lpXDldNa5fkovKP2VDOXbGnzjNbJLtO+lklVOK0HVXs7LbsB0jSz8SAjqd1CQ8dqiB27xVz1Y+ppdij04Z1TGvRmg5bYIKh1gYZccMHWynhktmaTWHpopwOtqyHJY8Er6FJqOdeOZ6SVX3cBqIap3bwqcapEX3J5Mto/wC9O6pEdBq3Zmj5VTxFmXwqFOLnwN2PdmkZXQCnzo2UHuAureKjcOgIrAzngkOFNW68jPj50wKwB3VgHmDVoQeMP93uSnCH0q2XTEOA7qtlGqTZ31K2hSRULFkBNNuq2HIJ8TW+4H04LlyBgb6jzoGaMUZ3rU8MYxgbc0owoFSy6BUMoBLNvNe0rQOaLAVnZWNVwPpTbqaYIpAq3A4vPjwznZjxpRhQPP8A7Jg5SQiuKuf/ALaa3nb/AJtRqVQAnNEZ9wKBnAp1Z2091AYGOEIAxPjwKvGTE9w4Xjy6HuHA0aNvFaEHdWhPDgl5bBRQGBikQiVjTEAba0x43VbDSXHdwnlTgfY8KBnHMPuqJP3HfwsoYEGhb/3nFKoUbOA1Ftlf7OmjKKMp7hUCkaie/wCz2hPD/wAONpAu+gcjP2eJrbNL9BQ3VKXCkqNtLdP3x17Wc4CGoyxXbzGe052+ebuRxsAqKeJExuNWrs2rbs4CwFB1effsHM3JOz1r9g9Kt5GfVnsxNAl5/TgLAUrBt3nedU0NyRVquI+C7iDDPhUdrHpBNKNIxzE/ST1pujVqOSezTyYFR6YsZ7+Ah3mKndUSaLjk+HZWlAlVPGmOBT3LEEoN1RPrRW8fL8ia1xSjSoHBLGX3UN3MuhLrTjZUS6U7KaeCVnzTrLxqq1dwp9I5VQMCWeg4PZG23a/QVMpeNhQUJbMPpVp1CfYXQfadvhwTRl1wKW22YLUlui9kj23UnpwXCSOwUbqt9UchhPhkeYHOBUEhdcnm2OyoZS+r+oRKePlNMcDNCRSM0vLutXgPME3QPpVsP0ubfdVqMA9puiRESKgYtEpPaPZsHY2ykQINnmCc8moxhBzcvRqDq+03XVNVv1K+eZtrKPrzk3RNRjCDtN31dRbI17RaSM/GZ8fML9cnOT7qXojtN10f80vRHp2c7qseg5/u8wnr15ybePXtVxvQfXtDdE1Y9T/nzD/MDnHDcYuztT7bhO0TbIn9KtOoTzAaiOZz/Rl23J9O0XRxA/pVvshT08wYqOAIxbP9Gi+If07Re9Qaj6tPT7Dw9fJ2i+6j/NJ0F9PMGoc3ntZqDrZe0X3VqP7qG4enmC5jk4zPdSz/AKI21ADjJ5m6BxkeNB8xg1BIz57Sat+sl9e0XvThH93mG4kAU1BGdS55qUZU0kn6JHfUC6U7Vb9bL2i666D18wmDU+SamhJwU3itd18lR69PK5ht1Ig4847Xb9dL2iXbeRD6ebJXwKt12au1Grfrpe0N8dH+PmySIPQGBjtR3Va9OX17Qfjx+P2HO6rXpy+vaD8cPx+w7bqs/wDmevaP5/8A2+YeO5YX+jXDaYmP0qwDaDntH8+Px8wSPgVBGem1McUb2P61HMsm73ycUrq249rvDyMeNQLpiXtDfHp+Pl9q44GTlbhRu4+40ja1zinjjGTpFW64GeGSbRQYHhfdUG96gdjIwJ4CcVx8fzChIh3MOEuo76NxGP3ULmMnHYbrayD60Nw7Qfj1/DzAUQ71FTImVwO+ncxx7s01xJJs0VH7QFA0UurHKqYzDoUVmZgHNLbeLHhk3VCOQTVuOUx4DXskWc01pF3VBqGQe6m3VxZmlP0pbeIftorGm3TRnkLbNgqNpUkAZsg8/P18faf54fh5hMbcaD3U1LypfT3D1y+5MeSaGyKrfocMqTHoNQW7+lKk3ew4HzDLr7jvoEEZFXAOg4pXEiBQNtRxY5Tb+fm+Ij7Sfj1/HzPpXOfcKg068nAFRDCe9IWAyBmuNaQYCVEhRMGrg4Q1xYTS6HbSnIB5+fr4+0/z4/Dzsyhhg0lsi9guenGfr2kfHn8fsPddOP17SPjz+P2Hu+nH60Nw7Qfjx+P2Hueuj7T/AD/+z7D3WyaI9pPx6/j9h5YFkK57q3doPx6/j9oD8ePw86E4r2mEHGqgc7ewXMzxaSN2aU6lBp5FQZNKwZQR2ff/ABD/AG+dCoNGzhAqCcICp7jQORnn7hNcbCrWTVFjvFXBMsgjFRpoQDs6/Hv+PnWd9KGrZdcm2t3YLhXhfXH37xVtHhdR3n35r3i2I0Uv8RJPV1FKJU1Ac+n/AMg/p51mjeRguNlNA8JDRjP0oXUjHAjOaGcbefdhNMqjcOYv3/U091cnjRpBxSY0jA5+L4+X0+wz9E1ZwldRI5hoY2OSooRoNyjsEY/4hJ6faCH46X0+0Fv8ZP8AaC06+49ftBZ9fcevnYso76DK24/0mz6649fOkxcKdO+o/aZt717Eh6TE1HGsY5NO4QZqO8R9+z3s0rq24+88qJ0u1WPSnP186XbYjNRSzacRpUU76tMgweC6y7KtBFVTydudlRLhB7svRNWWNB2+8+qW6x4c7NIIkLGo3DoGHfzbHCn0r+HdW58W86MitvFBQo2Cpump+vBcHQ6tUQ419fd7hom81HTjFSm80nOmoLedk2NgVDFxa4zn3JX0oTVoh2yHeamnMZUAb6ZsLn6Ul3LqBdeST707XYfkDZQe/wDkWoWmOeMQDgv2/TC+JqMcXCv0Fe2THlhBoFKwZQw76kllkmMUZxjvq1ld9StvX35m0wyH+2v4d1B/Lzo76BmopRIuac6pVA4Lp9TaAKtuqHvXPVmoBiJfduYJJcANihb3ajAmFScdxyBzmu6p1HIiX5s+9LPHF0jSTxP0XHDMOMu418KvWxDgfu2UyCKyI+lW502wJ8KtdiSzGrIchm+Y+/eKzW7hasYmii5Q2k+dCAaNlyso+PpUUKx+vA9oxl1ZpFCLge9cqzJgVEmiMD38arz0pjgE0ntbSFwn/euLvTvlAo211nr6UEKATnheKNzllzSwQqchBnhT45/Srw4eEno5p9V04C9Ad9TL+gwX5ajLzRpCo2fuNIgRQo+x6wkTM+ec0Lq1Y20VB3isAbuAYG7/APbs11HEcHOaS+iJwQRzE0vFRlsZqGZJlyP8ip20wufpVhnicnx+ykkGp1cbxV0gaBtm0Cjd6IEx08VAXMSl9/vHBGDRX2a6UjoNV6xOiJd5NRoI0VfD7K30mmLT3tT2+iFHO8mh0R6U8ixrqY1HIsi6l925iEsRHhuqxUu5djnH2WWB3nMkg2d1SxiSMrSyXMa6OJ1Y76NtPOwaVsDwpEVFwo2e7dtpgf67KtkCQoPs/famaJB40N32fwM5xt/6OssoiTUajcOgYd/2fv8Aqf8ANWqssKg1fSMgTSe+le4idOMbY3Ary3LsobSoqDVHOYi2R7mR4/0CR1RctT3Vx0wmEpG1orePnS928UP7uC7GqaAfWrzbLCv1q6bTA9W8YjiH/uof1Lt37h7iH/Xtt7uGJ2mvM53VPNxMerFFLiSMys+PAVbuXgQnf7zSIvSYCjfW47yahmjmBKndwQTtJJKp/adlXk0kZjCHfTOEUs3dXH3MupoxhRVvLxsQbv5mC5WUsMYI4R+vOc9FKuzrZYV/zSjSoHnS4iMijG8bqXOkZ31cxM4Up0lqKB+M42Xpdwq8BMJozvKoSId201DEIk0jgddSEZxXsHzSk0tqrXLx5OBUUfFoFzmpm0xOfpVhHiMv3mnRXXSwq4k0pxCEsatZVZNGMFe73lsY9WWJagiDcopURc6QNvBYDrX8TV2NV1CtTRcbGVp34i10nGrGKs9HELpPrwE4Ga9tt/mr2y3+evbbf5q9ug+te3J3Ixpr8KM8U1JPpuOMCHld1A5APAD7NM2roP30qR51gDb30zBVJ8Kt5+NQsdmDWtdOrOypLpFUY2k7qS+2NrGCO6ra4eR3BG7zpgDu92z5TTSeJ4L5sQepqMaY0H0o7QRUNukX1PjS/Htj5dvvTC6LfpsMVxFy/WTbPpUcaxrpWmzpbHhVmpWAZGDk0OXfE/IOD2VWlLuc+Aq1Gi4nQbuH2ODXq0/4oQxD9grQnyisDw4JCgQlt1W0OtjMw/HguLgwleTkUCs0e1d/dTj2Uhkfk/LV436HqamxbwBF3tSJxdqQflq0QBXmbu3Vbxa2aZt3dVmvTfxPnhslTjwq1jeOEBt/BLCkoAbxobBiiQASa4xeL192M1aAnXKf3Hm0iVGcj9x28HtVwCQYKtYmUMz9JjzFyjyBFG7PKoDA4HRXXDCvYR3SNSWkSnO/1q4h41MA4pLQ6w8r6iKuldo9KjfXs36Kx5x41cfp2+B6VCumNR59ddaMviKWC4YCNzhB/wC6AAAA/oE0TSMu3kj/AMmb/8QALhABAAIBAgQGAgEEAwEAAAAAAQARITFBEEBRYSAwYHBxgZGhsVCA0fCQoMHx/9oACAEBAAE/If6Hr/yD5xSx7P2D0gvdVROns8vcY/M+kW4OUFDgsTS51eQIUhiI0CWFZ7IOviQugIhKlBFFvEtwbXzOxagrvXjZg8ZcQa1jrwAWzf8A2RvqAANHlbly/WQEnIUQj3RrR/Oj6NW4VLQ/VBj04PhLylZoSwTveGF5+J3v4YSSx4M1nbihO3ywuuJuBNApINujKruwAAaHBlQGzMuO+ksbqcQZXSNw3xw1xgWB8dxggTwgkNEj1jqRhiaTDA7QyGOMHq1mZ8gk3jaqyEFHoOOcXkDcZICgAYp4My7iuOFDpEqfrM11XhZo0S8BpMYl/bPfhon0gnzNArEsOBnei8oJDYQK6pkXvgK74RSdXMdjqqaQ7hw0ljuOFg7StPVetFNQYaQEdQX5DoYB1Fws4WGPlfAihlnpjCUOLCDzmakyqFfHcCComd31HVC4hjqA6QQlXgDGff8AEACbzXWUbEQboipS2FhCHq4rQbqnZg9fJcu1hlWz8TXvxxL8ogCksgAAacU1ResP0o6sABocKAoIW9YZYHFTeDPB0dKGgMU2xwRu4nMExtEOYTEabI4daZQe/HBg6EZ9j00NdfItejaVDqOOgUyjEFIHDRM30x7OqiB3jtViQvZ00w6WAG3/AE4i7UIBo+z1RNASAANCXMhtKOf6jhA94BSX5FI8xXD1wwG9nVlqXuYi97bIzWqmWCBVCaeQLF1i0sYQGgcctQTEnHEmrDl79QKs0Okz3XgDvTDri2CI0PINw/xShe/LDUOXSMbcuakVShBqTWrlVRrFssskm6AJs9P3lqudsTgcW3zBQO3k1aYuIqopDryuibD1pGKj0qBQdCFb6hEFvgj1DygnTLqkdhTe4vx+wtgRg4LMfMEua7RG7V5RfDPC4m5mbHfUAv2Iw38uiGQmjrzK1y4nnSX/AEQmGaRpX6gX5UqHz5evL335lFMkQDPLoIjpMi4e0pn2fUGadZTe3lqlDR+eZX4oa5gsfUK7nBgDy3+KVPtzOr8kFHty7ozNemPqB81fzz9HmXidkFD2cvqfEHyl6gYL8vYsPWDAfHMq+tkxy7pe0Gvq/UDDPZPLZXr1rfNYXpnmHZ74a9QTog9uf0b6rmUxpeoDYmpYv9FdOZT98hr4vsM6TPmH+DP0Hp9leqeXW9Y81oZruYXyBMT7PT7pBC7j+JRuNCHvOfJKdjKZ22iF9NuZ0PMxl1XqERbpRClv0gAB5Ne7S7YmpSY15l0Z+75t+W7P1BYWhOktxWnMVOfWNiufJn7K8806cyPj1vVhPK0tXmtDP2OXT1bAILvcIhtzWpFbcwy7PsP1p+49n3wcdq5g6PUFajUhfX+jMFsoRd3MP5PUEmlp1GU1gX/Cb88iWgFmvN/fKlQ9bikJe5kB4uekAMELhGldeCzDs3gw3rxcWGO8xSL4AIjh/JNZH3x1QTYkrZv6l8jcKDt64jXl9QVWMFkVDQgdaX3lID7nRL7QgpN7FCKvdoAFcHT+JR1jLO74AdZm9W0oYIyk9TQvAusAbpiIKlOPc5ACTI+ZfUGdIilGhh2aOJmVngqhjfEOT1eLw1dpUpflCv8AGiWQVhIK0GO31RTUsrL9i1ug28DUrk8BNJHHstI5iZ8SvCbRshbrcIQdko99d53EPPw5nfWwfjhiWq8hj7Q4obHMYd72HrR1n9D2fdlPedPFfJOn2HZJ18dckft9h6Y3KBQOnMP+xSoAtjYjcAAbHkESWqMEHcjN8EfOx5dwdvWklGMsMW29CEQ0fPpzWsQg7FJpa3mB0Hl8+161C12JmtzcAFHnss1iRm8foK2usr385cAZpHz/APX7etGfMgZhjNYJgbrlwpT5y1mLjaZhQB40SkBr3llWGvmZKgS/PQ+t5joeeHB0ly1r5FmZ6wMp129sA5e0GftA/wCt39oP9Dv62EyYZifjyD+g/wC339aO1cMRtkDtDKZlMEcp0jSfDDJZp4Wku81a+KttrpBEE0eZz6j1pskrvmrE0qacB1C5hC7C0Q74VTdokuq/CyqriarB5glXUFajy1h6KD1ow2riVSggrhjbXca0YaeC1YjdOOLgatKmpoiXGvADHSVNYw3DaX9eqV0Yg+LD5+MdKmVGicO95AF7sptsZmmoLnUlUAZqVfjLoKjv5XrS9poSm8TpSZpFC5uzoPEq+OFS8JJQ3hKkNphszSVdE2g3/EIFAeGix3Meh6b8egJtj3WVDJ3/AHZ0OJndu41vXxpVW4jkosetDKSawGAOvVEslG4usGeKrW5SMnr42r2RzC6NIAPbp0Q/VCVaNl6Eb8RwEQCeN+O5+MDRrNiF6fPVKDtKEamBhoGB7Hs0UmnmbPxq4XRJ3gCgBwGgD4/vdBmqaEB3fr5G0NtN859Er9zogzmrr2UN0d4sYsIyL7kratfhGgyz9eIICx1Jp12Z1mKGTZ7K4D0I+kT9Erh0pGlAJn5XfwqLDku8e8jQvstiZNMZe5CiawA4YRI9sDVB4bZecH3KSZS379nsTrvtBQO3s/eWKaPmZv8A4aWBXNAQeA9m1gdTPlZIFKLCjZs9IoWs6qBG8TxYsvwZEpfTxPNLmxAlGzfeGBsv1oLdWKqjpw0Km1jENUr8w5rKWoqrRo4qGqEHEKf/ABxutgnHYhJkdCLPAXDWnGfF/JpGKPgE1QTJwAwqCsRbM0qBmYTxOkVofryewceNmarB1YuvVgw9Ar1pe2muPhbM1IiyM+gNpSRdIx3+g6cO/Y9XgxbsakC/qoWjPXeEaqbs63jqE4Zde0XWBgZcM/4nTT3xCPPNHSG0L6lwBa2usurZZJ+gv5mY6dSMdbED+Zg7P/XAEWgWzu/xD/5J3f4jt3+p/h6IVTAKi/k6TWDJvwr5yWdLLG0gx9BKGFgmVlG5Gx7RA1VY6uAiHrM0FPBdQfCfCzOgQxdjDSNWawlrLq4Oy8QZq13htLokjoExQzaoUPkBg6d+2Ef0PQmy3ScKERI//MJo345X/jleyEB0QaM3knDocNVJCriGqNaSctjUrahsfcncgv5ZoI2mouFvymBPXGQdSqhBhdvhcxRaAAaBiO1gLZuszp84vjy79rujNNaxzxbVc3Nk9vI1RubtCANA4PrgypwjpBytm8JlgbItzojaZKrZiXCj8pSrog+2evTR0o4OlgQoCg/oGPYlpAoD+4xvb3Tv/oDf/8QAKRABAAIBAwQCAgMBAQEBAAAAAQARIBAhMDFAQVFQYXGRgaGxYMHw0f/aAAgBAQABPxD4Jg07F7l4q/6wPlXgOA7W/wDgXnv4txv5g7c7m+8vsLzeK87hjfZHx7y2/DXreV5XrfPfAfLXmyqlQEvu74r7kdL42Xnet85xX8eDbQLYKfYyGwPQYsMHS5f/AAty/wDi3U6g/ZUBD4EF6zcYgPnpelCYQLtatYl1HW9WXtyUZvp/3uwz6whWj8M8ho99cvW+M4b7uuBls/8Am4hG4T81UPiC1ZSrpKPCSr2T1z9odxsr+pbIzLogbJtfBblwxMUVkpPh0dJQdWbNK/dILcH0Nx9bCx1sl4Lm5UlJSD8xfanfOLD5faGzNtXVYVg30HRMvzo6wJF/bqMbxblMN3FgrRcK0R26lRuNX0jVmFtMoXgrHTpgv0CaMQi9oHibKHcWLGgwPump1nEM6vuVcgWwQwCjRbMKULFPzACCmrjM9QdFlTwFrAFlbn1puIEUNB1pvGy6igQLOiK1Dow6t6/Mvon+ZVmGl7Nl8ZL7Ml53pel5X8WkuxBqh2iRveMuj5nUiBhPUkLczbTFR9l7J0pG0b03cXy4H+DUS2XKIH3aepSw4bHTpjD/AE/TRJU0wDZ0qHoULpEf7p6CiBtCbTHlbJGg1C0CaOlCX6bD9kT2V5QPQCO0Y9LgmsCDQOwpvebigesZl2aJFJlZMF2nW5FJVbbcIMJYdjwTz5dTyMpH92m+HRMqlvmHBfyJjfBeRleF63jfZ2+9KXbOllz+q4CVldGy/Dlu6XL0QVu8FhH3afV6lQeu9jDYsTcZ0uqRWxTDCGw2q2D0FL7fqIFUrc3+tnXQLp6SdRW90bKXVlX4ZZDX4I2HjY8sedE2KWiBjr/lEq2FkIsg9soGsSyOIstYKHoEPPcW62Lhym1qhp1RIQQXg4XjvK/gDS9bzvQwvhvhvW+1eAyj5I2Nq0hsBvukALfxBUXkRKZCkYadAoI6DCTunljJaB90LWgojCsAWtEIJoLj2g3h2f5lbabf1DosUMGBGoLefUpsFHqbh1DHTOFTb9G02S7d1hkVCbq0Wki2YlFY2nnB+SvmMCXksM7wvMl6XL0FrcqV2qY1x1AV3wN1uRNRye/+iVoCFjTFrcHQvxNjQ8vvRUpvk6SK7C++ezvhM77g+CY8rozdtL2hGol3vJzvlM7+CvAl6X2d63L5T4gyYARLGAbL4BQAjhfyF43h54rwuXodgON92989jfO9nfY3reLlcvS+U7Vwe3vsb1c75bjL7q+yNbi5X2N/L3m5DxX258WcA43jcfi3h85PHeN4vzd5XxXlenjmexex8avM6svvr+CvtLl8NwXhv4t4b0v4x5ziHs71GXrfYtcW2Tx3wPPcv/hjO+U7N4ukpcX2wslkuXyPNcuX37qaX8IcN5XyXgPbsFljRbf6+GdDcog2CWe02az7h5aWjpgLi8GbEGriqDZHsTErX3YsvlvgczA/4d7ABfrsHiBL4Uly1q5dIxEJsO+1oWJIijas2UthAirRaWyuRVavToZXm5MJFYXGOvUWdQZaWq609iRxRzGp8PeB3d8CD1BjVdG3QhbbdRl0qP3cMGpcsvoozalegUT0Z97PgcHW8lnqUxFsypb7Y9Q8kQb4/SyGrrab7QkGnaEqoOrEqOtfSiA1QLX/ACbxsY8Km7BC9F6GZFFD5CCX4BwMeFTdgeba2hBUm2Gd4Oqy8LlmhOh4bvhIS7h9Wh+iIdhlp6nTaX8BKMLxvR1uXw/y+Y76bCp5g6oDVjrua+dYy46Xi53Xcia1KYysQt/SHgfSK/AbF464CMr1CEawdB8y6Amz21w4L5L3+LeJSfAsPgJsqGrmzMMrTUHtr029ENby+22miAYD/QWwj6JYksnkh7cdWGq4Xqw7w76r6YfkmBzrU+oPh11rfCy+C8FjBWMsSM3YR6cZqOQArUNAUUjCrVLmr+7+R7Ze0Oe870vvXpKfwH7hm+i4MrK0+hn5ynjvV4mGA+aSk53L57IdA9jf/BujrcvJlGe39QfQAaOTHQwPdJ/MzS9TkeBbPsP7n4U51gYMMCXo6b6Y/vxz6l63ncc776pXYnfdE3UfcesvVl4sQs9gm0PR5nS+GzzmYei7cdP9ofs9jqyYfLvY9EqV9D/3NwVDLPTYKfoaXrebmy8fqwgAHoDt/rxxRe81OG+/vO+2vtK1Y9pbYYjox1CjG3gweS+RYj7Ep55bzNfpX/Gflwvx9632F512bgCSikdrF1eS+C+FYPpceY3ia2n2z9xUvtzHYvwN9i8yQmGARKExeF1Y8jreHWm5fpDiNtTiVfef9yq+vny+ye1eO5fC8fWiseiodu9x7/1gofX+eF87qR/4hURoAvyywgiWOly8HRECLYqhVaXgy+cwVX7nGcv4/YfpP8O8vhdb7i8L1vuDaIAF6FeRLAhqh5Y8efFc3RK0Saeoyu7rYY1quhjq9n/ShCY7YlvF4jxGN8Z2V6PA9hfEy871WiXPbgeVZaQCsMJtUFGrpeqxqK7RKCdxX8zd27A8FnL/AFIaLj3Lm51HQyD0aY9eAwrfhfmnsDZN089IN/WS/USBf50YoEfTVdV0QO51kMo+4UAHQ4rl5XwOnHRffa3otSiXkjqvxh8pWqubLsa2lOd2yXGXneTwOq3p6UHS+S+CyG/qUJfxZo4L8g6XnUQoR0TBWjk9l/Umw29/9h29vtEJWB2dy+Q4L7Zee+FwcF1dL0XhezUNyHn/AEhwPPRr8O9HJ7BYcJ2l9gYXwPEmDpcXgdb4rzM2MW+p9iL/AGGd8/mbPvWZxX8ecNduYjEd816Ol9g5uHXaQS9Tobhkw7Dbfg38CS+7vsHkvRajlKUVuBLVLqLilT4U8fP2S5cvRZcEWy2F0EES8Fl63jeBhvgxivqMbK9S3K87+Jy/jGVpWjzXo7QjuqW1j1lZ6EBIvFbqM34Da2RzUs1oNMJu0QQagBe7L0C8HQi4TihAOloYihPqkWr8AJcWN0T8tQDeJxavwoBBvZ7Cnurz6NB2N57voUJXyTqdo43wsvV0aZYqX2IYeXAlJcr6kQbyod0Zgh5UT2jLe7VpaupSsvYVUJqIFeEADoFEWXH7Q/MJNt9laC10S1Volhti5sjLV0rrIkSQQHZ1UFiFW9y/VjqSvBWhjKuMjzB+yYw7Cm7vJn7yqGdy+Z+JvsHhdbwNqOq5YPFFplXGXpgBiWRjL4niVX7bCNOu5Cj+yCKA/wBoAad9CAoYFvNRPFxnrCxjfu3AgtgSw8VB3pJ6572n3Hr3FvwSds/LXy3L0ZerEs3g5Qi+dWKd6zqxzeHqRICCCK9i3hivlCz2mxzKA2I9Vt3XqCJrarguIqRe1orhSC8d4IS+2PXnGXqYXN/16L5L/wCJY8bGLovKAdAIy1YFJDTs3YYbbBjfET0lYNg+zAxdL5Vf06Wb53jfzbk8Dxpo624Xg9v0bJ/QQeF0MRzIHRdbl8b8QYHLeTreDHG5eFxZeT3Dgx6vaiVE3RcM2DxGhrT87vgWX3l/C1jfM4sdbjrel9k8O0TdodPwhgwHYXp+mu9uXgd54hzrg43gy44Mc74b7C8GU6EUSxBPWLvsTZDS9GXpfDcoY8vF50NF4bySV3JwB2bysuLHB0Vh3xpDcVDAdgB/EvVh04bg4Xij9D7FzuX8JXcrLwZcWXLxdL5rl5VreDqsvDftfMQfasjkcb4DE+CMr4XJYxxcXleJKx/oNwOQLE7AJ+6M6MpJKuXWZ4ECcPMvUebzKUHq3gStLwqXoarwjbpXOfBuly9byuXHtnTpNpTGER8MRZsovOosvldGFeT8jciPa3VNysBcBb07/mGCy5fJ4wRa9J+iGjjcvG5cvO8DEjqYGpwX3Vy4wixI5PA6Xi5ONaJV1I9VveIc6QUcV4jxKzr6bpbBrtrXRx890qqEjd9EhN5upCchou5NoX1X+MLl9k8JnUOQ7ljwXHVxZfZktTUsq84fb+Lr9ktnrYY2wU3MryNDCoB/pH2QAOgUY3GEoEadbSxBPGl7ltOqiU7++G9bNPMRHqOv4DS+K9HtHiO1M6zc2XLyvB0YdiQA2We63zvNjQCtqhIhFX94OCVbKVDjwjZy1oXcAc9n9hyVg8xzGtdkHAvCxjHRl4XLwvNZbCXwsNXVg816OV8jA3itnh49eHxxHEd+cTi6OjF0dV1vVeOs7xe4vW8DG9Lly2WN9OJhfPWJmcRpXDXPUvNwvV1vRY4vYbcDCPb3yguet/7Wiy5fKu4V3hqaEeKs64bly45ObcH4V4CMvG8xyG2JXfb/AFyXncvE5R4zExMahkcDF0ZcuOr2Rq4s8S5deSX4p7WXAc9rzYnzkxrA0cLyuXweSbv/AI9XcnGnEYupmcFYuTLl43guRmcivAJtPsQ0BFDyJbFjQfbcpjAtldPsYgEFGyStWELXaAV7qp4YYLN5pegR2rCx+nRhq6XG4XpcuXpcuLkR3vX/ANWOpjet8J25wVm6jgcDHR0vJ0cXSuzdVuvFSllesJHrwE6XBqtXRe0Vobzqd1HbRjPp5Q4i0XgtmpRovqAIGwUcbKbCtHtY7AF0w0N9DL7LH6Iip3wSXk96anY1oHK6ulxcnlrAxMHVKSBUxeoA3Ui7P4lYbFWIVeMy9d55Q3G20T3XqqisBe7dO0uLHW2zBtqpSlpaSMca94hbU2CUw6QIIljgyxO6qg/uAU/zbS71BZsYykVI/wBEopA1f2wIpTfWydBgggpQV87GtLcfOF6XHT0lNEm7hq9xUOesq4zQ4bze93zJK9jFwCOpcNJe41Ghct9LE9RDRSmnR0YwbD1j3A3jgLMthnTpgpKXLXWUOnYsltqux6T6kAwZ1augC2Jjj0bWoH95JDUKa9PWVbXufcWVbQ79a7M86ww1rfVHS7g6pcVYyhzuXlvxjwvAZHdMvFYujw1zuVaorQkQSe7h2mw97q5YE2EzqDW2JeiRjFSSBqdAQW57qLB//Yxlog6tQnjZXQJuP14JRQefEe0bd9XUTcUXOjhQEvSvu1/rNr9zJ+Nq+155fQSKSwv063PFis/Ot4Xi6j3RqYnYGtapqxycGXL1rFeZdWb3DWta1vBgsuXilxwqmaN5WroRdbDtP36n1e4WQyVdAKNBKE9Cu08Q1O1OMganBXMuix0uXLyeB4DQ1eM7O9BjGXjcvG5fNeV8BwHEYkMK5TiXV1e8vByNL1edwYw0NG4aXwXoIljZ7JfYke1MTKuENKhrUqVKlaVq9i9m4XkYvZGrHwO1MR0uhO0N8wu1gUa6xQtbCdVGqgMX2y5W3LPgjL5a460IYsJWtStKwMKc6lStQzML0dXS+V7G+Uj1lx4DC9XMy06qpQUWtHjc2hGtWeaG1ss7H+Vul5ChFSFiS7Smn0uF7oSIYewj9vlzNL1OTbicTgIY1pWZrWNRIFYLqy9HkrlexTR7Zj+T6H1DwW4PYRtX4H4qEa/aX0Q225SCkTQ0IkAJ9UQvknL3cThqGhDgDQlctQwNCHIdk9w6jHlrB0ewcmUzFp/R0m2L0n0+GH+HownRILvpBHaRjBlKUAgJFQ/n0VkYF3hUDCtTsDWsqyrMwriXBuV3jq8t9gw4Ouhe++prXkQ2/vOIk2gGHOZGBK0rkrAlamBrWpKlaHIxwZfE5hwuV53o4uRwJxXwLkgqncHivS9jxkZGlQwriNalSsyHCYVxur2jwOl6OBxrmwcr4bl9v50MQ0rAh2FaDvoaHIaHe05uW+brXK9perL5zC9SGRrUrhqJoamISu8eBwNTguPBXGsuXg6ubjWV6XLg6XF1uXtocly+M7E0MK4jiOweR7RxSErSsr7BHBjIEKPKzy5ivU3Yy4hLJfFe9ZVh518Q0MTgMgxrsSVqdi4keC441hel8TpeLo8F8tfpaVS27B6Z47z/ADUuFylwCigFZaf6o7iWjSnUbXoS4KVCW2LNLll1ZdXWhe0DcMiXo6jDW4MuDiSlqOh5X0SpQUo7wESBgfuGV61oYDx1KgSsjsXnviuXmy9FxuPE8fr7egCPQAQUuiv9J7IjFQqAU+1QnAP+ZDBtxvbVaE/t8QlstW29mo6gzbqxixkD12Qj1tNPi2K+3eSwm8FRXuoakqHP4Z3RlRJPadhikh1qG8VEdatJZxvDFVchMAr181AbWInS4HU0NHossSdum7IQ3Z1uCPDE5rA08QIKGPwa76XDQcjnIaVw1H4W+Bl5XHC5cvJl43LlwiANmA7ep29LlFTR3zETmyuim/ZOh6GWpqhKDFEt6+fQfM1HWI5f0wqXAghTdBxyW3duKO1/IEog079eQIaCY0/UfVD1qEQiD4OnjR3E9kQe3TaiuPPAZvNuvnDR6BZu71kDr3mRVlyk8WS4ZJe9mFQVb+1924Rd6Un0Q8gP2p5dPyoh5vw4D/HN8AMN7JUBs/m15wRgAGhSX4YO8tMo+N6GJTDtO9jETBLKlhB8USo4ErudIM6jTEmdMEDmCiFUl+NVYVodgdm43w3o6vC8S986oJSQpCH0VB1RZfAssDyj8GgWO86sAOgipLUB4s6xcP5chHTo7PdEIYIPWWxdza1/kmBs/c2q+WFXpmPuor1sCnrD6+Y/kaFwXd3oQ7lcDwQiACJSMQujSN7kgD19YdIX4MKFH/BAHglw2iFjKtt7Z29mjAsu6Nbwxe/aGrm3r+4S/Uae2hEqs37LDeb2X9E3oKAYW9uB8jzHSN2r8EDQ0MjtjN+Sca4E4L0M6bqj8kl6cVG4QD6I01BtoQPQStg5PQR9gUP0lyvh+l51DTeWBt5N7/UegDRodrYrzelCIZVVv08ErStQlQiep9Agf0ADQVkT+NuhJdOW4HMKr0j7BsCoBPX0qCD5LunVS+MlAgv8GGBma3DRIcJqdq8C6XwkqPC51wubnely5eBDedJZpt+qX8wQyTcqwQ2gwPAYGBeBLcL0dN51JXAwVpTy1hCeDQwOGuM73aPA43rcWXwvGw4WPIzbUjoStTA4TAwNTOtCGBhWRDvlxvsTVe9dHlvR0J51uX2ZK3l6nKamRiaDxnH5zedyc2bHRksvtXG8L1MTWuzrQwIYHAXeo1kYGp2jw3viR0uXLwvgeVlbZvG6vZGKDWuEwLwDQyMSGBiYJDmOyTgdD41jgsNa4TC+UIQdCedQ0PPZGpoaHYnAc7LwNGXHmruHVjxmRgZDqYGbDTpDDxqcRqRhqajod3fM8pDm24nub1841qaGrpcJUrfE1OKsDU1uGBpXKfCV3TwsdK7K4amhkYpcMjUhkcZpUMTK8DE4Xjd+5vsXS9TDfN5zE4DQ0MhyNPOhkHGcFStDU4SXL7BhFnmOY5vbOnvjI4Gj0hHE1NXUh0hkQ0NDWtTtjMdsjU4f/9k=)"
      ],
      "metadata": {
        "id": "xArAKm_u47Ow"
      }
    },
    {
      "cell_type": "markdown",
      "metadata": {
        "id": "e9yoxbngMAtE"
      },
      "source": [
        "# **II. Practical**:\n",
        "## **1. Write a Python function that takes a list of numbers as input and returns the sum of all even numbers in the list.**"
      ]
    },
    {
      "cell_type": "code",
      "execution_count": 32,
      "metadata": {
        "colab": {
          "base_uri": "https://localhost:8080/"
        },
        "id": "K6-Hiy3lK5O3",
        "outputId": "db61ee7b-65ad-46b4-8cf5-3c7bd5ba1fb9"
      },
      "outputs": [
        {
          "output_type": "stream",
          "name": "stdout",
          "text": [
            "Sum of even numbers: 6\n"
          ]
        }
      ],
      "source": [
        "def sumEvenNumbers(numbers):\n",
        "    evenSum = 0\n",
        "    for num in numbers:\n",
        "        if num % 2 == 0:\n",
        "            evenSum += num\n",
        "    return evenSum\n",
        "\n",
        "\n",
        "numbers = [1, 2, 3, 4, 5]\n",
        "result = sumEvenNumbers(numbers)\n",
        "print(\"Sum of even numbers:\", result)"
      ]
    },
    {
      "cell_type": "markdown",
      "metadata": {
        "id": "UcmMtozQMQLn"
      },
      "source": [
        "## **2. Create a Python function that accepts a string and returns the reverse of that string.**"
      ]
    },
    {
      "cell_type": "code",
      "execution_count": 31,
      "metadata": {
        "colab": {
          "base_uri": "https://localhost:8080/"
        },
        "id": "b7oB3FzNNcJ1",
        "outputId": "ea5ab84d-ee1b-4a7d-c1d5-331dbfdcb26f"
      },
      "outputs": [
        {
          "output_type": "stream",
          "name": "stdout",
          "text": [
            "Reversed String: tnemngissA snoitcnuF\n"
          ]
        }
      ],
      "source": [
        "def reverseString(inputStr):\n",
        "    return inputStr[::-1]\n",
        "\n",
        "\n",
        "inputStr = \"Functions Assignment\"\n",
        "reversedStr = reverseString(inputStr)\n",
        "print(\"Reversed String:\", reversedStr)"
      ]
    },
    {
      "cell_type": "markdown",
      "metadata": {
        "id": "q-N1dXDEOPXU"
      },
      "source": [
        "## **3. Implement a Python function that takes a list of integers and returns a new list containing the squares of each number.**"
      ]
    },
    {
      "cell_type": "code",
      "execution_count": 30,
      "metadata": {
        "id": "NT98GdS3Maf6"
      },
      "outputs": [],
      "source": [
        "def squareNumbers(numbers):\n",
        "  squares = []\n",
        "  for num in numbers:\n",
        "    squares.append(num*num)\n",
        "  return squares"
      ]
    },
    {
      "cell_type": "markdown",
      "metadata": {
        "id": "OGONlfcpQVWF"
      },
      "source": [
        "## **4. Write a Python function that checks if a given number is prime or not from 1 to 200.**"
      ]
    },
    {
      "cell_type": "code",
      "execution_count": 29,
      "metadata": {
        "colab": {
          "base_uri": "https://localhost:8080/"
        },
        "id": "IgQKkK1dYV6p",
        "outputId": "1cb05c87-a76f-44ec-e930-79250887aea0"
      },
      "outputs": [
        {
          "output_type": "stream",
          "name": "stdout",
          "text": [
            "1 is not a prime number\n",
            "2 is a prime number\n",
            "3 is a prime number\n",
            "4 is not a prime number\n",
            "5 is a prime number\n",
            "6 is not a prime number\n",
            "7 is a prime number\n",
            "8 is not a prime number\n",
            "9 is not a prime number\n",
            "10 is not a prime number\n",
            "11 is a prime number\n",
            "12 is not a prime number\n",
            "13 is a prime number\n",
            "14 is not a prime number\n",
            "15 is not a prime number\n",
            "16 is not a prime number\n",
            "17 is a prime number\n",
            "18 is not a prime number\n",
            "19 is a prime number\n",
            "20 is not a prime number\n",
            "21 is not a prime number\n",
            "22 is not a prime number\n",
            "23 is a prime number\n",
            "24 is not a prime number\n",
            "25 is not a prime number\n",
            "26 is not a prime number\n",
            "27 is not a prime number\n",
            "28 is not a prime number\n",
            "29 is a prime number\n",
            "30 is not a prime number\n",
            "31 is a prime number\n",
            "32 is not a prime number\n",
            "33 is not a prime number\n",
            "34 is not a prime number\n",
            "35 is not a prime number\n",
            "36 is not a prime number\n",
            "37 is a prime number\n",
            "38 is not a prime number\n",
            "39 is not a prime number\n",
            "40 is not a prime number\n",
            "41 is a prime number\n",
            "42 is not a prime number\n",
            "43 is a prime number\n",
            "44 is not a prime number\n",
            "45 is not a prime number\n",
            "46 is not a prime number\n",
            "47 is a prime number\n",
            "48 is not a prime number\n",
            "49 is not a prime number\n",
            "50 is not a prime number\n",
            "51 is not a prime number\n",
            "52 is not a prime number\n",
            "53 is a prime number\n",
            "54 is not a prime number\n",
            "55 is not a prime number\n",
            "56 is not a prime number\n",
            "57 is not a prime number\n",
            "58 is not a prime number\n",
            "59 is a prime number\n",
            "60 is not a prime number\n",
            "61 is a prime number\n",
            "62 is not a prime number\n",
            "63 is not a prime number\n",
            "64 is not a prime number\n",
            "65 is not a prime number\n",
            "66 is not a prime number\n",
            "67 is a prime number\n",
            "68 is not a prime number\n",
            "69 is not a prime number\n",
            "70 is not a prime number\n",
            "71 is a prime number\n",
            "72 is not a prime number\n",
            "73 is a prime number\n",
            "74 is not a prime number\n",
            "75 is not a prime number\n",
            "76 is not a prime number\n",
            "77 is not a prime number\n",
            "78 is not a prime number\n",
            "79 is a prime number\n",
            "80 is not a prime number\n",
            "81 is not a prime number\n",
            "82 is not a prime number\n",
            "83 is a prime number\n",
            "84 is not a prime number\n",
            "85 is not a prime number\n",
            "86 is not a prime number\n",
            "87 is not a prime number\n",
            "88 is not a prime number\n",
            "89 is a prime number\n",
            "90 is not a prime number\n",
            "91 is not a prime number\n",
            "92 is not a prime number\n",
            "93 is not a prime number\n",
            "94 is not a prime number\n",
            "95 is not a prime number\n",
            "96 is not a prime number\n",
            "97 is a prime number\n",
            "98 is not a prime number\n",
            "99 is not a prime number\n",
            "100 is not a prime number\n",
            "101 is a prime number\n",
            "102 is not a prime number\n",
            "103 is a prime number\n",
            "104 is not a prime number\n",
            "105 is not a prime number\n",
            "106 is not a prime number\n",
            "107 is a prime number\n",
            "108 is not a prime number\n",
            "109 is a prime number\n",
            "110 is not a prime number\n",
            "111 is not a prime number\n",
            "112 is not a prime number\n",
            "113 is a prime number\n",
            "114 is not a prime number\n",
            "115 is not a prime number\n",
            "116 is not a prime number\n",
            "117 is not a prime number\n",
            "118 is not a prime number\n",
            "119 is not a prime number\n",
            "120 is not a prime number\n",
            "121 is not a prime number\n",
            "122 is not a prime number\n",
            "123 is not a prime number\n",
            "124 is not a prime number\n",
            "125 is not a prime number\n",
            "126 is not a prime number\n",
            "127 is a prime number\n",
            "128 is not a prime number\n",
            "129 is not a prime number\n",
            "130 is not a prime number\n",
            "131 is a prime number\n",
            "132 is not a prime number\n",
            "133 is not a prime number\n",
            "134 is not a prime number\n",
            "135 is not a prime number\n",
            "136 is not a prime number\n",
            "137 is a prime number\n",
            "138 is not a prime number\n",
            "139 is a prime number\n",
            "140 is not a prime number\n",
            "141 is not a prime number\n",
            "142 is not a prime number\n",
            "143 is not a prime number\n",
            "144 is not a prime number\n",
            "145 is not a prime number\n",
            "146 is not a prime number\n",
            "147 is not a prime number\n",
            "148 is not a prime number\n",
            "149 is a prime number\n",
            "150 is not a prime number\n",
            "151 is a prime number\n",
            "152 is not a prime number\n",
            "153 is not a prime number\n",
            "154 is not a prime number\n",
            "155 is not a prime number\n",
            "156 is not a prime number\n",
            "157 is a prime number\n",
            "158 is not a prime number\n",
            "159 is not a prime number\n",
            "160 is not a prime number\n",
            "161 is not a prime number\n",
            "162 is not a prime number\n",
            "163 is a prime number\n",
            "164 is not a prime number\n",
            "165 is not a prime number\n",
            "166 is not a prime number\n",
            "167 is a prime number\n",
            "168 is not a prime number\n",
            "169 is not a prime number\n",
            "170 is not a prime number\n",
            "171 is not a prime number\n",
            "172 is not a prime number\n",
            "173 is a prime number\n",
            "174 is not a prime number\n",
            "175 is not a prime number\n",
            "176 is not a prime number\n",
            "177 is not a prime number\n",
            "178 is not a prime number\n",
            "179 is a prime number\n",
            "180 is not a prime number\n",
            "181 is a prime number\n",
            "182 is not a prime number\n",
            "183 is not a prime number\n",
            "184 is not a prime number\n",
            "185 is not a prime number\n",
            "186 is not a prime number\n",
            "187 is not a prime number\n",
            "188 is not a prime number\n",
            "189 is not a prime number\n",
            "190 is not a prime number\n",
            "191 is a prime number\n",
            "192 is not a prime number\n",
            "193 is a prime number\n",
            "194 is not a prime number\n",
            "195 is not a prime number\n",
            "196 is not a prime number\n",
            "197 is a prime number\n",
            "198 is not a prime number\n",
            "199 is a prime number\n",
            "200 is not a prime number\n"
          ]
        }
      ],
      "source": [
        "def checkPrime(n):\n",
        "    if n <= 1:\n",
        "        return False\n",
        "    for i in range(2, n):\n",
        "        if n % i == 0:\n",
        "            return False\n",
        "    return True\n",
        "\n",
        "for i in range(1, 201):\n",
        "    if checkPrime(i):\n",
        "        print(i, \"is a prime number\")\n",
        "    else:\n",
        "        print(i, \"is not a prime number\")"
      ]
    },
    {
      "cell_type": "markdown",
      "metadata": {
        "id": "QuKWN7vbYiLG"
      },
      "source": [
        "## **5. Create an iterator class in Python that generates the Fibonacci sequence up to a specified number of terms.**"
      ]
    },
    {
      "cell_type": "code",
      "execution_count": 28,
      "metadata": {
        "colab": {
          "base_uri": "https://localhost:8080/"
        },
        "id": "HrkEr_DVYsXv",
        "outputId": "a3aa8d7e-8e83-4638-d3a9-51c0438a0fdd"
      },
      "outputs": [
        {
          "output_type": "stream",
          "name": "stdout",
          "text": [
            "0\n",
            "1\n",
            "1\n",
            "2\n",
            "3\n",
            "5\n",
            "8\n",
            "13\n"
          ]
        }
      ],
      "source": [
        "class Fibonacci:\n",
        "    def __init__(self, n):\n",
        "        self.n = n\n",
        "        self.a = 0\n",
        "        self.b = 1\n",
        "\n",
        "    def __iter__(self):\n",
        "        return self\n",
        "\n",
        "    def __next__(self):\n",
        "        if self.n == 0:\n",
        "            raise StopIteration\n",
        "        result = self.a\n",
        "        self.a, self.b = self.b, self.a + self.b\n",
        "        self.n -= 1\n",
        "        return result\n",
        "\n",
        "    def __len__(self):\n",
        "        return self.n\n",
        "\n",
        "\n",
        "fibIter = Fibonacci(8)\n",
        "for num in fibIter:\n",
        "    print(num)"
      ]
    },
    {
      "cell_type": "markdown",
      "metadata": {
        "id": "o5_k80eb6Dqa"
      },
      "source": [
        "## **6. Write a generator function in Python that yields the powers of 2 up to a given exponent.**"
      ]
    },
    {
      "cell_type": "code",
      "execution_count": 27,
      "metadata": {
        "colab": {
          "base_uri": "https://localhost:8080/"
        },
        "id": "WyDL_eKn6LBT",
        "outputId": "284009fa-8391-40da-e30d-7600a38ec380"
      },
      "outputs": [
        {
          "output_type": "stream",
          "name": "stdout",
          "text": [
            "1\n",
            "2\n",
            "4\n",
            "8\n",
            "16\n",
            "32\n"
          ]
        }
      ],
      "source": [
        "def powersOfTwo(exponent):\n",
        "    for i in range(exponent +1):\n",
        "        yield 2 ** i\n",
        "\n",
        "for power in powersOfTwo(5):\n",
        "    print(power)"
      ]
    },
    {
      "cell_type": "markdown",
      "metadata": {
        "id": "a83_vMXH8dnA"
      },
      "source": [
        "## **7. Implement a generator function that reads a file line by line and yields each line as a string.**"
      ]
    },
    {
      "cell_type": "code",
      "execution_count": 25,
      "metadata": {
        "id": "CaY0vztk86Mp"
      },
      "outputs": [],
      "source": [
        "def readFile(filename):\n",
        "  with open(filename, 'r') as f:\n",
        "    for line in f:\n",
        "      yield line.strip()\n"
      ]
    },
    {
      "cell_type": "markdown",
      "metadata": {
        "id": "saW7Y6Np1uw_"
      },
      "source": [
        "## **8. Use a lambda function in Python to sort a list of tuples based on the second element of each tuple.**"
      ]
    },
    {
      "cell_type": "code",
      "execution_count": 24,
      "metadata": {
        "colab": {
          "base_uri": "https://localhost:8080/"
        },
        "id": "WTwKNiqe10CG",
        "outputId": "a291a3a3-6ad0-47e4-de9b-95f492ab9a65"
      },
      "outputs": [
        {
          "output_type": "stream",
          "name": "stdout",
          "text": [
            "[(3, 1), (4, 2), (2, 3), (1, 4)]\n"
          ]
        }
      ],
      "source": [
        "tuples = [(3, 1), (1, 4), (2, 3), (4, 2)]\n",
        "sortedTuples = sorted(tuples, key=lambda x: x[1])\n",
        "print(sortedTuples)"
      ]
    },
    {
      "cell_type": "markdown",
      "metadata": {
        "id": "L-9Tz6ho2clk"
      },
      "source": [
        "## **9. Write a Python program that uses `map()` to convert a list of temperatures from Celsius to Fahrenheit.**"
      ]
    },
    {
      "cell_type": "code",
      "execution_count": 61,
      "metadata": {
        "colab": {
          "base_uri": "https://localhost:8080/"
        },
        "id": "LaXvFVOh2hb6",
        "outputId": "e7e89f43-55ed-4d4d-810f-18212ee0309d"
      },
      "outputs": [
        {
          "output_type": "stream",
          "name": "stdout",
          "text": [
            "[32.0, 50.0, 68.0, 86.0, 104.0]\n"
          ]
        }
      ],
      "source": [
        "tempCelsius = [0, 10, 20, 30, 40]\n",
        "\n",
        "def celsiusToFahrenheit(celsius):\n",
        "    return (celsius * 9/5) + 32\n",
        "\n",
        "\n",
        "tempFarenheit = list(map(celsiusToFahrenheit, tempCelsius))\n",
        "print(tempFarenheit)"
      ]
    },
    {
      "cell_type": "markdown",
      "metadata": {
        "id": "SsQewPlA4QqV"
      },
      "source": [
        "## **10. Create a Python program that uses `filter()` to remove all the vowels from a given string.**"
      ]
    },
    {
      "cell_type": "code",
      "execution_count": 22,
      "metadata": {
        "colab": {
          "base_uri": "https://localhost:8080/"
        },
        "id": "pEK8eloU4Y3J",
        "outputId": "0e8843cc-e43f-47da-abb4-31db2823740f"
      },
      "outputs": [
        {
          "output_type": "stream",
          "name": "stdout",
          "text": [
            "String without vowels: Fnctns ssgnmnt\n"
          ]
        }
      ],
      "source": [
        "def removeVowels(char):\n",
        "    vowels = 'aeiouAEIOU'\n",
        "    return char not in vowels\n",
        "\n",
        "\n",
        "inputString = \"Functions Assignment\"\n",
        "filteredString = ''.join(filter(removeVowels, inputString))\n",
        "print(\"String without vowels:\", filteredString)"
      ]
    },
    {
      "cell_type": "markdown",
      "metadata": {
        "id": "dnCKioS98aEA"
      },
      "source": [
        "## **11. Imagine an accounting routine used in a book shop. It works on a list with sublists, which look like this:**\n",
        "\n",
        "![Screenshot 2024-09-03 184534.png](data:image/png;base64,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)\n",
        "\n",
        "#### Write a Python program, which returns a list with 2-tuples. Each tuple consists of the order number and the product of the price per item and the quantity. The product should be increased by 10,-€ if the value of the order is smaller than 100,00 €.\n",
        "\n",
        "#### Write a Python program using lambda and map"
      ]
    },
    {
      "cell_type": "code",
      "source": [
        "orders = [\n",
        "    [34587, \"Learning Python, Mark Lutz\", 4, 40.95],\n",
        "    [98762, \"Programming Python, Mark Lutz\", 5, 56.80],\n",
        "    [77226, \"Head First Python, Paul Barry\", 3, 32.95],\n",
        "    [88112, \"Einführung in Python3, Bernd Klein\", 3, 24.99]\n",
        "]\n",
        "calculateTotal = lambda order: (order[0], (order[3] * order[2]) + 10 if (order[3] * order[2]) < 100 else (order[3] * order[2]))\n",
        "totalValues = list(map(calculateTotal, orders))\n",
        "print(totalValues)"
      ],
      "metadata": {
        "colab": {
          "base_uri": "https://localhost:8080/"
        },
        "collapsed": true,
        "id": "khNtDMJnFAj3",
        "outputId": "ef362e22-0bff-48f3-b591-af2930c130e2"
      },
      "execution_count": 60,
      "outputs": [
        {
          "output_type": "stream",
          "name": "stdout",
          "text": [
            "[(34587, 163.8), (98762, 284.0), (77226, 108.85000000000001), (88112, 84.97)]\n"
          ]
        }
      ]
    }
  ],
  "metadata": {
    "colab": {
      "provenance": []
    },
    "kernelspec": {
      "display_name": "Python 3",
      "name": "python3"
    },
    "language_info": {
      "name": "python"
    }
  },
  "nbformat": 4,
  "nbformat_minor": 0
}